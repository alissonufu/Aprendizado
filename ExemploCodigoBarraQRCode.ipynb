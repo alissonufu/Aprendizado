{
  "nbformat": 4,
  "nbformat_minor": 0,
  "metadata": {
    "colab": {
      "provenance": [],
      "mount_file_id": "1sUm8ZShn7QQk69dU_J3lNID1Xl_WcuRP",
      "authorship_tag": "ABX9TyPfPktO4BJVkVGSH21o+SEU",
      "include_colab_link": true
    },
    "kernelspec": {
      "name": "python3",
      "display_name": "Python 3"
    },
    "language_info": {
      "name": "python"
    }
  },
  "cells": [
    {
      "cell_type": "markdown",
      "metadata": {
        "id": "view-in-github",
        "colab_type": "text"
      },
      "source": [
        "<a href=\"https://colab.research.google.com/github/alissonufu/Aprendizado/blob/main/ExemploCodigoBarraQRCode.ipynb\" target=\"_parent\"><img src=\"https://colab.research.google.com/assets/colab-badge.svg\" alt=\"Open In Colab\"/></a>"
      ]
    },
    {
      "cell_type": "markdown",
      "source": [
        "Compartilhe o link: \n",
        "https://colab.research.google.com/drive/1sUm8ZShn7QQk69dU_J3lNID1Xl_WcuRP?usp=sharing\n",
        "\n",
        "Endereço do caminho:\n",
        "/content/drive/MyDrive/Colab Notebooks/ExemploCodigoBarraQRCode.ipynb"
      ],
      "metadata": {
        "id": "2v7RSOjaoLE6"
      }
    },
    {
      "cell_type": "code",
      "execution_count": null,
      "metadata": {
        "id": "sC6i6oktkEvS"
      },
      "outputs": [],
      "source": [
        "!pip install python-barcode  # Biblioteca do Barcode\n",
        "!pip install pillow    # Biblioteca de Tratamento de Imagens do BarCode\n",
        "# Outros padrões\n",
        "# Code 39\n",
        "# Code 128\n",
        "# PZN7 (aka: PZN)\n",
        "# EAN-13\n",
        "# EAN-8\n",
        "# JAN\n",
        "# ISBN-13\n",
        "# ISBN-10\n",
        "# ISSN\n",
        "# UPC-A\n",
        "# EAN14\n",
        "# GS1-128\n",
        "\n",
        "!pip install qrcode    # Biblioteca do QRCode \n",
        "\n",
        "from barcode import EAN13   #EAN13 é um dos padrões da biblioteca Para ver outras, clique:  pypi.org/project/python-barcode\n",
        "from barcode.writer import ImageWriter # para salvar em png\n",
        "\n",
        "import qrcode"
      ]
    },
    {
      "cell_type": "code",
      "source": [
        "#numero = \"123123123123\"    # Tem que ser 12 número. o 13º será criado pelo programa.\n",
        "numero = input()\n",
        "\n",
        "codigo_barra = EAN13(numero, writer=ImageWriter()) \n",
        "# writer para salvar em png. Caso contrário, será salvo extensão svg\n",
        "\n",
        "codigo_barra.save(\"codigo_barra\")  \n",
        "#Endereço do caminho a ser salvo: /content/codigo_barra.png"
      ],
      "metadata": {
        "colab": {
          "base_uri": "https://localhost:8080/",
          "height": 53
        },
        "id": "NE5puYtlnTiM",
        "outputId": "ac957046-df70-41d5-a883-ad3d1cd5645e"
      },
      "execution_count": null,
      "outputs": [
        {
          "name": "stdout",
          "output_type": "stream",
          "text": [
            "121110987654\n"
          ]
        },
        {
          "output_type": "execute_result",
          "data": {
            "text/plain": [
              "'codigo_barra.png'"
            ],
            "application/vnd.google.colaboratory.intrinsic+json": {
              "type": "string"
            }
          },
          "metadata": {},
          "execution_count": 3
        }
      ]
    },
    {
      "cell_type": "code",
      "source": [
        "# Exemplo de código para fazer vários arquivos de imagens com base em um dicionário.\n",
        "\n",
        "codigos_produtos = {\n",
        "    \"Feijao\": \"551746511111\",\n",
        "    \"Arroz\": \"665789011111\",\n",
        "    \"Macarrao\": \"665887111111\",\n",
        "    \"Azeite\": \"998556211111\"}\n",
        "\n",
        "for produto in codigos_produtos:\n",
        "    codigo_barra = EAN13(codigos_produtos[produto], writer=ImageWriter()) # writer para salvar em png\n",
        "    codigo_barra.save(f\"{produto}_codigo\")\n",
        "\n",
        "# Aqui temos uma lista de produtos e cada produto tem o seu respectivo código, depois disso vamos utilizar \n",
        "# uma estrutura de repetição para percorrer toda a lista e criar os códigos de barra.\n",
        "\n",
        "# Na pasta onde está o código você vai notar que agora vamos ter 4 códigos de barras criado para cada um dos produtos."
      ],
      "metadata": {
        "id": "jT6bvPU5rWI8"
      },
      "execution_count": null,
      "outputs": []
    },
    {
      "cell_type": "code",
      "source": [
        "link = input()\n",
        "\n",
        "meu_qrcode = qrcode.make(link)\n",
        "# Exemplo do código já inserido\n",
        "# meu_qrcode = qrcode.make(\"https://www.youtube.com/channel/UCl-EwjlmZ7rz5cJ-PuuUA-A\")\n",
        "meu_qrcode.save(\"seriesegundapele.png\")"
      ],
      "metadata": {
        "colab": {
          "base_uri": "https://localhost:8080/"
        },
        "id": "fkmHO4kjsd2Z",
        "outputId": "2176578a-0485-4018-ec91-139e5de7e2f5"
      },
      "execution_count": null,
      "outputs": [
        {
          "name": "stdout",
          "output_type": "stream",
          "text": [
            "https://www.youtube.com/channel/UCl-EwjlmZ7rz5cJ-PuuUA-A\n"
          ]
        }
      ]
    },
    {
      "cell_type": "code",
      "source": [],
      "metadata": {
        "id": "saZsgDFtsrzI"
      },
      "execution_count": null,
      "outputs": []
    }
  ]
}