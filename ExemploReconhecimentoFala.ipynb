{
  "nbformat": 4,
  "nbformat_minor": 0,
  "metadata": {
    "colab": {
      "provenance": [],
      "authorship_tag": "ABX9TyMepWdNrY9mGq4nz7Ql036O",
      "include_colab_link": true
    },
    "kernelspec": {
      "name": "python3",
      "display_name": "Python 3"
    },
    "language_info": {
      "name": "python"
    }
  },
  "cells": [
    {
      "cell_type": "markdown",
      "metadata": {
        "id": "view-in-github",
        "colab_type": "text"
      },
      "source": [
        "<a href=\"https://colab.research.google.com/github/alissonufu/Aprendizado/blob/main/ExemploReconhecimentoFala.ipynb\" target=\"_parent\"><img src=\"https://colab.research.google.com/assets/colab-badge.svg\" alt=\"Open In Colab\"/></a>"
      ]
    },
    {
      "cell_type": "code",
      "execution_count": null,
      "metadata": {
        "id": "kOU0htwGwS5J"
      },
      "outputs": [],
      "source": []
    },
    {
      "cell_type": "markdown",
      "source": [
        "Compartilhe o link:\n",
        "\n",
        "https://colab.research.google.com/drive/1E6XQtB6OdFYFXqctfh3A59YTh2Jk9TtG?usp=sharing\n",
        "\n",
        "Caminho desse arquivo:\n",
        "\n",
        "/content/drive/MyDrive/Colab Notebooks/ExemploReconhecimentoFala.ipynb"
      ],
      "metadata": {
        "id": "qmLdTi0CwTyX"
      }
    },
    {
      "cell_type": "code",
      "source": [
        "!pip install SpeechRecognition \n"
      ],
      "metadata": {
        "id": "POxDVGcHwlM0"
      },
      "execution_count": null,
      "outputs": []
    },
    {
      "cell_type": "code",
      "source": [
        "!apt install libasound2-dev portaudio19-dev libportaudio2 libportaudiocpp0 ffmpeg"
      ],
      "metadata": {
        "id": "3Xk-gtsF4z93"
      },
      "execution_count": null,
      "outputs": []
    },
    {
      "cell_type": "code",
      "source": [
        "!pip install PyAudio\n"
      ],
      "metadata": {
        "id": "-YbTeEvQ5Ftd"
      },
      "execution_count": null,
      "outputs": []
    },
    {
      "cell_type": "code",
      "source": [
        "import speech_recognition as sr\n",
        "\n",
        "rec = sr.Recognizer()\n",
        "print(sr.Microphone().list_microphone_names())\n",
        "# with sr.Microphone(3) as mic:\n",
        "#     rec.adjust_for_ambient_noise(mic)\n",
        "#     print(\"Pode falar que eu vou gravar\")\n",
        "#     audio = rec.listen(mic)\n",
        "#     texto = rec.recognize_google(audio, language=\"pt-BR\")\n",
        "#     print(texto)"
      ],
      "metadata": {
        "id": "oNZfSCU1xC14"
      },
      "execution_count": null,
      "outputs": []
    },
    {
      "cell_type": "code",
      "source": [],
      "metadata": {
        "id": "_GvT5KLM5PWz"
      },
      "execution_count": null,
      "outputs": []
    }
  ]
}