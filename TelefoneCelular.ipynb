{
  "nbformat": 4,
  "nbformat_minor": 0,
  "metadata": {
    "colab": {
      "provenance": [],
      "authorship_tag": "ABX9TyNamgu/RUnVgrk5dV8mrOOW",
      "include_colab_link": true
    },
    "kernelspec": {
      "name": "python3",
      "display_name": "Python 3"
    },
    "language_info": {
      "name": "python"
    }
  },
  "cells": [
    {
      "cell_type": "markdown",
      "metadata": {
        "id": "view-in-github",
        "colab_type": "text"
      },
      "source": [
        "<a href=\"https://colab.research.google.com/github/alissonufu/Aprendizado/blob/main/TelefoneCelular.ipynb\" target=\"_parent\"><img src=\"https://colab.research.google.com/assets/colab-badge.svg\" alt=\"Open In Colab\"/></a>"
      ]
    },
    {
      "cell_type": "markdown",
      "source": [
        "\n",
        "Compartilhe o link:\n",
        "\n",
        "https://colab.research.google.com/drive/1hfZCLsC79Iarjef7X9mFiQzH6SsN1_e5?usp=sharing\n",
        "\n",
        "Caminho desse arquivo:\n",
        "\n",
        "/content/drive/MyDrive/Colab Notebooks/TelefoneCelular.ipynb"
      ],
      "metadata": {
        "id": "rNxFhRBCysaJ"
      }
    },
    {
      "cell_type": "markdown",
      "source": [
        "Cartilha Python - Trabalhando com Número de Telefone\n",
        "\n",
        "Referência: https://pypi.org/project/phonenumbers"
      ],
      "metadata": {
        "id": "bU_QqE1-0tg7"
      }
    },
    {
      "cell_type": "code",
      "source": [
        "!pip install phonenumbers "
      ],
      "metadata": {
        "colab": {
          "base_uri": "https://localhost:8080/"
        },
        "id": "GqJb0hru0LpH",
        "outputId": "c68b391f-86e6-4942-d3b6-73170be12ef1"
      },
      "execution_count": 2,
      "outputs": [
        {
          "output_type": "stream",
          "name": "stdout",
          "text": [
            "Looking in indexes: https://pypi.org/simple, https://us-python.pkg.dev/colab-wheels/public/simple/\n",
            "Collecting phonenumbers\n",
            "  Downloading phonenumbers-8.13.5-py2.py3-none-any.whl (2.6 MB)\n",
            "\u001b[2K     \u001b[90m━━━━━━━━━━━━━━━━━━━━━━━━━━━━━━━━━━━━━━━━\u001b[0m \u001b[32m2.6/2.6 MB\u001b[0m \u001b[31m35.7 MB/s\u001b[0m eta \u001b[36m0:00:00\u001b[0m\n",
            "\u001b[?25hInstalling collected packages: phonenumbers\n",
            "Successfully installed phonenumbers-8.13.5\n"
          ]
        }
      ]
    },
    {
      "cell_type": "code",
      "source": [
        "import phonenumbers"
      ],
      "metadata": {
        "id": "MDe2QgWby2TJ"
      },
      "execution_count": 3,
      "outputs": []
    },
    {
      "cell_type": "code",
      "source": [
        "#Ajuste do telefone para usar o phonenumbers\n",
        "telefone = \"+5531999108288\"\n",
        "telefone_ajustado = phonenumbers.parse(telefone)\n",
        "print(telefone_ajustado)"
      ],
      "metadata": {
        "colab": {
          "base_uri": "https://localhost:8080/"
        },
        "id": "Wa9FHnX10C-_",
        "outputId": "c4aedf42-10b7-4198-87e5-6fad95a921c0"
      },
      "execution_count": 20,
      "outputs": [
        {
          "output_type": "stream",
          "name": "stdout",
          "text": [
            "Country Code: 55 National Number: 31999108288\n"
          ]
        }
      ]
    },
    {
      "cell_type": "code",
      "source": [
        "#Descobrir a localização do telefone\n",
        "from phonenumbers import geocoder\n",
        "local = geocoder.description_for_number(telefone_ajustado, 'pt-br')\n",
        "print(local)"
      ],
      "metadata": {
        "colab": {
          "base_uri": "https://localhost:8080/"
        },
        "id": "LN90jXiW1re7",
        "outputId": "02297a38-e75d-4b10-fbcf-2d17dd076c52"
      },
      "execution_count": 21,
      "outputs": [
        {
          "output_type": "stream",
          "name": "stdout",
          "text": [
            "Minas Gerais\n"
          ]
        }
      ]
    },
    {
      "cell_type": "code",
      "source": [
        "#Formatando um telefone que foi inserido em um formulário\n",
        "\n",
        "telefone_formulario = \"34988161237\"\n",
        "\n",
        "telefone_formulario_ajustado = phonenumbers.parse(telefone_formulario, \"BR\")\n",
        "\n",
        "telefone_formatado = phonenumbers.format_number(telefone_formulario_ajustado,phonenumbers.PhoneNumberFormat.NATIONAL)\n",
        "\n",
        "telefone_internacional = phonenumbers.format_number(telefone_formulario_ajustado,phonenumbers.PhoneNumberFormat.INTERNATIONAL)\n",
        "\n",
        "# Opções de formatação: NATIONAL, INTERNATIONAL, E164,  RFC3966\n",
        "\n",
        "telefone_tudojunto = phonenumbers.format_number(telefone_formulario_ajustado,phonenumbers.PhoneNumberFormat.E164)\n",
        "\n",
        "telefone_diferente = phonenumbers.format_number(telefone_formulario_ajustado,phonenumbers.PhoneNumberFormat.RFC3966)\n",
        "\n",
        "print(telefone_formatado)\n",
        "\n",
        "print(telefone_internacional)\n",
        "\n",
        "print(telefone_tudojunto)\n",
        "\n",
        "print(telefone_diferente)"
      ],
      "metadata": {
        "colab": {
          "base_uri": "https://localhost:8080/"
        },
        "id": "Yvso2WmV10TB",
        "outputId": "f55b00cb-1e57-4185-b8a9-9b5475f6c5ed"
      },
      "execution_count": 22,
      "outputs": [
        {
          "output_type": "stream",
          "name": "stdout",
          "text": [
            "(34) 98816-1237\n",
            "+55 34 98816-1237\n",
            "+5534988161237\n",
            "tel:+55-34-98816-1237\n"
          ]
        }
      ]
    },
    {
      "cell_type": "code",
      "source": [
        "#Descobrir a operadora do telefone ???\n",
        "\n",
        "from phonenumbers import carrier\n",
        "\n",
        "operadora = carrier.name_for_number(telefone_ajustado,'pt-br')\n",
        "\n",
        "print(operadora)"
      ],
      "metadata": {
        "colab": {
          "base_uri": "https://localhost:8080/"
        },
        "id": "cqEDn5RP2Brx",
        "outputId": "8c968608-f942-4b1a-edeb-f55e685d2e6a"
      },
      "execution_count": 23,
      "outputs": [
        {
          "output_type": "stream",
          "name": "stdout",
          "text": [
            "\n"
          ]
        }
      ]
    },
    {
      "cell_type": "code",
      "source": [
        "# Extrair um telefone dentro de um texto (seja email ou string)\n",
        "\n",
        "corpo_email = \"\"\"\n",
        "\n",
        "Abs, \n",
        "\n",
        "(34)99998-7664 \n",
        "\n",
        "(34)98816-1237\n",
        "\n",
        "(31)99910-8288\n",
        "\n",
        "\"\"\"\n",
        "\n",
        "for telefone in phonenumbers.PhoneNumberMatcher(corpo_email, \"BR\"):\n",
        "   print(telefone)"
      ],
      "metadata": {
        "colab": {
          "base_uri": "https://localhost:8080/"
        },
        "id": "lAeT-nYr2L4o",
        "outputId": "3f04404f-74e8-4906-ba63-5ae2c4371a47"
      },
      "execution_count": 19,
      "outputs": [
        {
          "output_type": "stream",
          "name": "stdout",
          "text": [
            "PhoneNumberMatch [9,23) (34)99998-7664\n",
            "PhoneNumberMatch [26,40) (34)98816-1237\n",
            "PhoneNumberMatch [42,56) (31)99910-8288\n"
          ]
        }
      ]
    },
    {
      "cell_type": "code",
      "source": [],
      "metadata": {
        "id": "DnNrt79aCxpO"
      },
      "execution_count": null,
      "outputs": []
    }
  ]
}