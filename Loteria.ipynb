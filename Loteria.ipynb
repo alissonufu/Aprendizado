{
  "nbformat": 4,
  "nbformat_minor": 0,
  "metadata": {
    "colab": {
      "provenance": [],
      "authorship_tag": "ABX9TyNO5gv3APOJRrzzv2evB419",
      "include_colab_link": true
    },
    "kernelspec": {
      "name": "python3",
      "display_name": "Python 3"
    },
    "language_info": {
      "name": "python"
    }
  },
  "cells": [
    {
      "cell_type": "markdown",
      "metadata": {
        "id": "view-in-github",
        "colab_type": "text"
      },
      "source": [
        "<a href=\"https://colab.research.google.com/github/alissonufu/Aprendizado/blob/main/Loteria.ipynb\" target=\"_parent\"><img src=\"https://colab.research.google.com/assets/colab-badge.svg\" alt=\"Open In Colab\"/></a>"
      ]
    },
    {
      "cell_type": "markdown",
      "source": [
        "Compartilhe o link:\n",
        "\n",
        "https://colab.research.google.com/drive/1VFDtPWmA9GHUbzjfyFoVpdLt2YgFaBmR?usp=sharing\n",
        "\n",
        "Caminho desse arquivo:\n",
        "\n",
        "/content/drive/MyDrive/Colab Notebooks/Loteria.ipynb"
      ],
      "metadata": {
        "id": "Xn0XKQhJZtyt"
      }
    },
    {
      "cell_type": "code",
      "source": [
        "# IMPORTAÇÕES NECESSÁRIAS\n",
        "\n",
        "import random \n",
        "import math"
      ],
      "metadata": {
        "id": "NkduWsRzCQW1"
      },
      "execution_count": 21,
      "outputs": []
    },
    {
      "cell_type": "code",
      "source": [
        "def aposta(n):    \n",
        "    numbers = []\n",
        "    for i in range(n):\n",
        "        number = int(input(f\"Digite o {i + 1}° número (entre 1 e 60): \"))\n",
        "        if number < 1 or number > 60:\n",
        "            print(\"Número inválido! Tente novamente.\")\n",
        "            continue\n",
        "        if number in numbers:\n",
        "            print(\"Número já escolhido! Tente novamente.\")\n",
        "            continue\n",
        "        numbers.append(number)\n",
        "    print(f\"Os seus números escolhidos para o jogo são: {numbers}\")\n",
        "    return numbers    "
      ],
      "metadata": {
        "id": "gvYkdCvBZ5x-"
      },
      "execution_count": 1,
      "outputs": []
    },
    {
      "cell_type": "code",
      "source": [
        "def resultado():\n",
        "    n = 6\n",
        "    numbers = []\n",
        "    for i in range(n):\n",
        "        number = int(input(f\"Digite o {i + 1}° número (entre 1 e 60) sorteado: \"))\n",
        "        if number < 1 or number > 60:\n",
        "            print(\"Número inválido! Tente novamente.\")\n",
        "            continue\n",
        "        if number in numbers:\n",
        "            print(\"Número já escolhido! Tente novamente.\")\n",
        "            continue\n",
        "        numbers.append(number)\n",
        "    print(f\"Os números sorteados para o jogo foram: {numbers}\")\n",
        "    return numbers"
      ],
      "metadata": {
        "id": "-J_JAzs1aDJ6"
      },
      "execution_count": 2,
      "outputs": []
    },
    {
      "cell_type": "code",
      "source": [
        "def apurar_resultado(lista1, lista2):\n",
        "    contador = 0\n",
        "    for numero in lista1:\n",
        "        if numero in lista2:\n",
        "            contador += 1\n",
        "    return contador"
      ],
      "metadata": {
        "id": "f461MiFDbT59"
      },
      "execution_count": 3,
      "outputs": []
    },
    {
      "cell_type": "code",
      "source": [
        "import itertools\n",
        "\n",
        "def combinar_numeros(qtd, aposta):\n",
        "    combinacoes = list(itertools.combinations(aposta, qtd))\n",
        "    resultados = []\n",
        "    for combinacao in combinacoes:\n",
        "        resultados.append(list(combinacao))\n",
        "    return resultados"
      ],
      "metadata": {
        "id": "yM0RLdHul8sB"
      },
      "execution_count": 4,
      "outputs": []
    },
    {
      "cell_type": "code",
      "source": [
        "def imprimir_jogos(lista1):\n",
        "  jogos = combinar_numeros(6,lista1)\n",
        "  # print(f'{jogos}\\n')\n",
        "  i=1\n",
        "  for jogo in jogos:\n",
        "    print(f'{i}) - {jogo}')\n",
        "    i+=1"
      ],
      "metadata": {
        "id": "Agq5b375qdGh"
      },
      "execution_count": 5,
      "outputs": []
    },
    {
      "cell_type": "code",
      "source": [
        "def verificar_acertos(aposta, resultado):\n",
        "  jogos = combinar_numeros(6, aposta)\n",
        "  cont5 = 0\n",
        "  cont4 = 0\n",
        "  cont3 = 0\n",
        "  cont2 = 0\n",
        "  cont1 = 0\n",
        "  cont = 0\n",
        "  jog5 = []\n",
        "  jog4 = []\n",
        "  jog3 = []\n",
        "  jog2 = []\n",
        "  jog1 = []\n",
        "  jog = []\n",
        "  for jogo in jogos:\n",
        "    qde = apurar_resultado(jogo,resultado)\n",
        "    # print(f\"qde - {qde}\\n\")\n",
        "    # print(f\"{jogo}\\n\\n\")\n",
        "    if qde==6:\n",
        "      print('Parabéns!!! Você acertou a sena!\\n')\n",
        "      print(resultado)\n",
        "    if qde==5:\n",
        "      cont5 += 1\n",
        "      jog5.append(jogo)\n",
        "    if qde==4:\n",
        "      cont4 += 1\n",
        "      jog4.append(jogo)   \n",
        "    if qde==3:\n",
        "      cont3 += 1\n",
        "      jog3.append(jogo)\n",
        "    if qde==2:\n",
        "      cont2 += 1\n",
        "      jog2.append(jogo)\n",
        "    if qde==1:\n",
        "      cont += 1\n",
        "      jog.append(jogo)\n",
        "  if cont5 > 0:\n",
        "    print(f'Você acertou a quina {cont5} vez(es) com o(s) seguinte(s) jogo(s):')\n",
        "    j=1\n",
        "    for jogo5 in jog5:\n",
        "        print(f'{j}) - {jogo5}')\n",
        "        j+=1\n",
        "  if cont4 > 0:\n",
        "    print(f'Você acertou a quadra {cont4} vez(es) com o(s) seguinte(s) jogo(s):')\n",
        "    j=1\n",
        "    for jogo4 in jog4:\n",
        "        print(f'{j}) - {jogo4}')\n",
        "        j+=1\n",
        "  if cont3 > 0:\n",
        "    print(f'Você acertou o terno {cont3} vez(es) com o(s) seguinte(s) jogo(s):')\n",
        "    j=1\n",
        "    for jogo3 in jog3:\n",
        "        print(f'{j}) - {jogo3}')\n",
        "        j+=1\n",
        "  if cont2 > 0:\n",
        "    print(f'Você acertou o duque (dois números) {cont2} vez(es) com o(s) seguinte(s) jogo(s):')\n",
        "    j=1\n",
        "    for jogo2 in jog2:\n",
        "        print(f'{j}) - {jogo2}')\n",
        "        j+=1\n",
        "  if cont1 > 0:\n",
        "    print(f'Você acertou apenas um número {cont2} vez(es) com o(s) seguinte(s) jogo(s):')\n",
        "    j=1\n",
        "    for jogo1 in jog1:\n",
        "        print(f'{j}) - {jogo1}')\n",
        "        j+=1\n",
        "  if cont > 0:\n",
        "    print(f'Você não acertou nenhum número {cont2} vez(es) com o(s) seguinte(s) jogo(s):')\n",
        "    j=1\n",
        "    for jogo0 in jog:\n",
        "        print(f'{j}) - {jogo0}')\n",
        "        j+=1"
      ],
      "metadata": {
        "id": "uDXQd1tSwc-3"
      },
      "execution_count": 18,
      "outputs": []
    },
    {
      "cell_type": "markdown",
      "source": [
        "SIMULAR JOGOS E RESULTADOS - VERIFICAR QUANTIDADE DE ACERTOS"
      ],
      "metadata": {
        "id": "XrvALWbcBjbI"
      }
    },
    {
      "cell_type": "code",
      "source": [
        "n = int(input(f\"Digite a quantidade de números quer apostar: \"))\n",
        "lista1 = aposta(n)\n",
        "print('\\n')\n",
        "lista2 = resultado()\n",
        "print('\\n')\n",
        "\n",
        "print('Os jogos derivados da sua aposta são:\\n')\n",
        "imprimir_jogos(lista1)\n",
        "\n",
        "verificar_acertos(lista1, lista2)\n",
        "\n",
        "# apurar_resultado(lista1, lista2)\n",
        "# print(f'Você acertou {apurar_resultado(lista1, lista2)} números')"
      ],
      "metadata": {
        "id": "K6xtHnZhiDX7"
      },
      "execution_count": null,
      "outputs": []
    },
    {
      "cell_type": "markdown",
      "source": [
        "LOTO FÁCIL  - GERADOR DE NÚMEROS ALEATÓRIOS"
      ],
      "metadata": {
        "id": "-eWNYqbHBTNp"
      }
    },
    {
      "cell_type": "code",
      "source": [
        "# Escolha de quinze números aleatórios para jogos da LotoFácil\n",
        "import random \n",
        "import math\n",
        "Lista = []\n",
        "qtde = input (\"Digite a quantidade de jogos:\")\n",
        "for d in range(0,int(qtde)):\n",
        "  Lista = []\n",
        "  while len(Lista)<15:\n",
        "    a = math.ceil(25*random.random())\n",
        "    if a not in Lista:\n",
        "      Lista.append(a)\n",
        "  Lista.sort()\n",
        "  print(Lista)"
      ],
      "metadata": {
        "id": "CsNPi8tVEMfM"
      },
      "execution_count": null,
      "outputs": []
    },
    {
      "cell_type": "markdown",
      "source": [
        "MEGA SENA - GERADOR DE NÚMEROS ALEATÓRIOS"
      ],
      "metadata": {
        "id": "-pkn8Pp3BW0x"
      }
    },
    {
      "cell_type": "code",
      "source": [
        "# Escolha de seis números aleatórios para jogos da sena\n",
        "import random \n",
        "import math\n",
        "Lista = []\n",
        "qtde = input (\"Digite a quantidade de jogos:\")\n",
        "for d in range(0,int(qtde)):\n",
        "  Lista = []\n",
        "  #for c in range(0,6):\n",
        "  while len(Lista)<6: \n",
        "    a = math.ceil(60*random.random())\n",
        "    if a not in Lista:\n",
        "      Lista.append(a)\n",
        "  Lista.sort()\n",
        "  print(Lista)"
      ],
      "metadata": {
        "id": "WUmURsoDEIKb"
      },
      "execution_count": null,
      "outputs": []
    },
    {
      "cell_type": "markdown",
      "source": [
        "GERADOR DE NÚMEROS ALEATÓRIOS COM POSSIBILIDADE DE ESCOLHA ENTRE MEGA SENA E LOTOFÁCIL"
      ],
      "metadata": {
        "id": "ObivTYpmB8Eu"
      }
    },
    {
      "cell_type": "code",
      "source": [
        "import random\n",
        "import math\n",
        "Lista = []\n",
        "condicao = True\n",
        "condicao2 = False\n",
        "qtde = \"\"\n",
        "while(type(qtde)!= int):\n",
        "  print(\"Digite apenas numeros!\")\n",
        "  qtde = input (\"Digite a quantidade de jogos: \")\n",
        "  qtde = int(qtde)\n",
        "while(condicao):\n",
        "  tipo = input(\"Escolha 1 para Sena e 2 para LotoFácil: \")\n",
        "  tipo = int(tipo)\n",
        "  if(tipo==1 or tipo==2):\n",
        "    condicao = False\n",
        "    condicao2 = True    \n",
        "  else:\n",
        "    print(\"Opção indevida\\n\")\n",
        "    tipo = input(\"Escolha 1 para Sena e 2 para LotoFácil: \")\n",
        "    tipo = int(tipo)\n",
        "    #qtde = input (\"Digite a quantidade de jogos: \")\n",
        "if(condicao2): \n",
        "    if (tipo == 1):\n",
        "        print(\"\\n\")\n",
        "        for d in range(0,int(qtde)):\n",
        "            Lista = []\n",
        "            #for c in range(0,6):\n",
        "            while len(Lista)<6:\n",
        "                a = math.ceil(60*random.random())\n",
        "                if a not in Lista:\n",
        "                    Lista.append(a)\n",
        "            Lista.sort()                       \n",
        "            print(Lista)\n",
        "        condicao = False \n",
        "        print(\"\\nObrigado por usar o programa.\\nO programa será encerrado\")              \n",
        "    if (tipo == 2):\n",
        "        print(\"\\n\")\n",
        "        for d in range(0,int(qtde)):\n",
        "            Lista = []\n",
        "            while len(Lista)<15:\n",
        "                a = math.ceil(25*random.random())\n",
        "                if a not in Lista:\n",
        "                    Lista.append(a)\n",
        "            Lista.sort()        \n",
        "            print(Lista)\n",
        "        condicao = False\n",
        "        print(\"\\nObrigado por usar o programa.\\nO programa será encerrado\")\n"
      ],
      "metadata": {
        "id": "3X1g-3_Ak3iY"
      },
      "execution_count": null,
      "outputs": []
    }
  ]
}