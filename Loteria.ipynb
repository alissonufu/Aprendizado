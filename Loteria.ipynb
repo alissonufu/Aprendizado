{
  "nbformat": 4,
  "nbformat_minor": 0,
  "metadata": {
    "colab": {
      "provenance": [],
      "authorship_tag": "ABX9TyP1Ul4lPpobvwOX+cDWEw0x",
      "include_colab_link": true
    },
    "kernelspec": {
      "name": "python3",
      "display_name": "Python 3"
    },
    "language_info": {
      "name": "python"
    }
  },
  "cells": [
    {
      "cell_type": "markdown",
      "metadata": {
        "id": "view-in-github",
        "colab_type": "text"
      },
      "source": [
        "<a href=\"https://colab.research.google.com/github/alissonufu/Aprendizado/blob/main/Loteria.ipynb\" target=\"_parent\"><img src=\"https://colab.research.google.com/assets/colab-badge.svg\" alt=\"Open In Colab\"/></a>"
      ]
    },
    {
      "cell_type": "markdown",
      "source": [
        "Compartilhe o link:\n",
        "\n",
        "https://colab.research.google.com/drive/1VFDtPWmA9GHUbzjfyFoVpdLt2YgFaBmR?usp=sharing\n",
        "\n",
        "Caminho desse arquivo:\n",
        "\n",
        "/content/drive/MyDrive/Colab Notebooks/Loteria.ipynb"
      ],
      "metadata": {
        "id": "Xn0XKQhJZtyt"
      }
    },
    {
      "cell_type": "code",
      "source": [
        "# IMPORTAÇÕES NECESSÁRIAS\n",
        "\n",
        "import random \n",
        "import math\n",
        "import itertools"
      ],
      "metadata": {
        "id": "NkduWsRzCQW1"
      },
      "execution_count": 23,
      "outputs": []
    },
    {
      "cell_type": "markdown",
      "source": [
        "GERADOR DE NÚMEROS ALEATÓRIOS COM POSSIBILIDADE DE ESCOLHA ENTRE MEGA SENA E LOTOFÁCIL"
      ],
      "metadata": {
        "id": "ObivTYpmB8Eu"
      }
    },
    {
      "cell_type": "code",
      "source": [
        "import random\n",
        "import math\n",
        "Lista = []\n",
        "condicao = True\n",
        "condicao2 = False\n",
        "qtde = \"\"\n",
        "while(type(qtde)!= int):\n",
        "  print(\"Digite apenas numeros!\")\n",
        "  qtde = input (\"Digite a quantidade de jogos: \")\n",
        "  qtde = int(qtde)\n",
        "while(condicao):\n",
        "  tipo = input(\"Escolha 1 para Sena e 2 para LotoFácil: \")\n",
        "  tipo = int(tipo)\n",
        "  if(tipo==1 or tipo==2):\n",
        "    condicao = False\n",
        "    condicao2 = True    \n",
        "  else:\n",
        "    print(\"Opção indevida\\n\")\n",
        "    tipo = input(\"Escolha 1 para Sena e 2 para LotoFácil: \")\n",
        "    tipo = int(tipo)\n",
        "    #qtde = input (\"Digite a quantidade de jogos: \")\n",
        "if(condicao2): \n",
        "    if (tipo == 1):\n",
        "        print(\"\\n\")\n",
        "        for d in range(0,int(qtde)):\n",
        "            Lista = []\n",
        "            #for c in range(0,6):\n",
        "            while len(Lista)<6:\n",
        "                a = math.ceil(60*random.random())\n",
        "                if a not in Lista:\n",
        "                    Lista.append(a)\n",
        "            Lista.sort()                       \n",
        "            print(Lista)\n",
        "        condicao = False \n",
        "        print(\"\\nObrigado por usar o programa.\\nO programa será encerrado\")              \n",
        "    if (tipo == 2):\n",
        "        print(\"\\n\")\n",
        "        for d in range(0,int(qtde)):\n",
        "            Lista = []\n",
        "            while len(Lista)<15:\n",
        "                a = math.ceil(25*random.random())\n",
        "                if a not in Lista:\n",
        "                    Lista.append(a)\n",
        "            Lista.sort()        \n",
        "            print(Lista)\n",
        "        condicao = False\n",
        "        print(\"\\nObrigado por usar o programa.\\nO programa será encerrado\")\n"
      ],
      "metadata": {
        "id": "3X1g-3_Ak3iY"
      },
      "execution_count": null,
      "outputs": []
    },
    {
      "cell_type": "markdown",
      "source": [
        "LOTO FÁCIL  - GERADOR DE NÚMEROS ALEATÓRIOS"
      ],
      "metadata": {
        "id": "-eWNYqbHBTNp"
      }
    },
    {
      "cell_type": "code",
      "source": [
        "# Escolha de quinze números aleatórios para jogos da LotoFácil\n",
        "import random \n",
        "import math\n",
        "Lista = []\n",
        "qtde = input (\"Digite a quantidade de jogos:\")\n",
        "for d in range(0,int(qtde)):\n",
        "  Lista = []\n",
        "  while len(Lista)<15:\n",
        "    a = math.ceil(25*random.random())\n",
        "    if a not in Lista:\n",
        "      Lista.append(a)\n",
        "  Lista.sort()\n",
        "  print(Lista)"
      ],
      "metadata": {
        "id": "CsNPi8tVEMfM"
      },
      "execution_count": null,
      "outputs": []
    },
    {
      "cell_type": "markdown",
      "source": [
        "MEGA SENA - GERADOR DE NÚMEROS ALEATÓRIOS"
      ],
      "metadata": {
        "id": "-pkn8Pp3BW0x"
      }
    },
    {
      "cell_type": "code",
      "source": [
        "# Escolha de seis números aleatórios para jogos da sena\n",
        "import random \n",
        "import math\n",
        "Lista = []\n",
        "qtde = input (\"Digite a quantidade de jogos:\")\n",
        "for d in range(0,int(qtde)):\n",
        "  Lista = []\n",
        "  #for c in range(0,6):\n",
        "  while len(Lista)<6: \n",
        "    a = math.ceil(60*random.random())\n",
        "    if a not in Lista:\n",
        "      Lista.append(a)\n",
        "  Lista.sort()\n",
        "  print(Lista)"
      ],
      "metadata": {
        "id": "WUmURsoDEIKb"
      },
      "execution_count": null,
      "outputs": []
    },
    {
      "cell_type": "markdown",
      "source": [
        "FUNÇÕES NECESSÁRIAS PARA CONFERÊNCIA DE JOGOS"
      ],
      "metadata": {
        "id": "VtHevPBYDgMy"
      }
    },
    {
      "cell_type": "code",
      "source": [
        "def aposta(n):    \n",
        "    numbers = []\n",
        "    for i in range(n):\n",
        "        number = int(input(f\"Digite o {i + 1}° número (entre 1 e 60): \"))\n",
        "        if number < 1 or number > 60:\n",
        "            print(\"Número inválido! Tente novamente.\")\n",
        "            continue\n",
        "        if number in numbers:\n",
        "            print(\"Número já escolhido! Tente novamente.\")\n",
        "            continue\n",
        "        numbers.append(number)\n",
        "    print(f\"Os seus números escolhidos para o jogo são: {numbers}\")\n",
        "    return numbers    "
      ],
      "metadata": {
        "id": "gvYkdCvBZ5x-"
      },
      "execution_count": 1,
      "outputs": []
    },
    {
      "cell_type": "code",
      "source": [
        "def resultado():\n",
        "    n = 6\n",
        "    numbers = []\n",
        "    for i in range(n):\n",
        "        number = int(input(f\"Digite o {i + 1}° número (entre 1 e 60) sorteado: \"))\n",
        "        if number < 1 or number > 60:\n",
        "            print(\"Número inválido! Tente novamente.\")\n",
        "            continue\n",
        "        if number in numbers:\n",
        "            print(\"Número já escolhido! Tente novamente.\")\n",
        "            continue\n",
        "        numbers.append(number)\n",
        "    print(f\"Os números sorteados para o jogo foram: {numbers}\")\n",
        "    return numbers"
      ],
      "metadata": {
        "id": "-J_JAzs1aDJ6"
      },
      "execution_count": 2,
      "outputs": []
    },
    {
      "cell_type": "code",
      "source": [
        "def apurar_resultado(lista1, lista2):\n",
        "    contador = 0\n",
        "    for numero in lista1:\n",
        "        if numero in lista2:\n",
        "            contador += 1\n",
        "    return contador"
      ],
      "metadata": {
        "id": "f461MiFDbT59"
      },
      "execution_count": 3,
      "outputs": []
    },
    {
      "cell_type": "code",
      "source": [
        "import itertools\n",
        "\n",
        "def combinar_numeros(qtd, aposta):\n",
        "    combinacoes = list(itertools.combinations(aposta, qtd))\n",
        "    resultados = []\n",
        "    for combinacao in combinacoes:\n",
        "        resultados.append(list(combinacao))\n",
        "    return resultados"
      ],
      "metadata": {
        "id": "yM0RLdHul8sB"
      },
      "execution_count": 4,
      "outputs": []
    },
    {
      "cell_type": "code",
      "source": [
        "def imprimir_jogos(lista1):\n",
        "  jogos = combinar_numeros(6,lista1)\n",
        "  # print(f'{jogos}\\n')\n",
        "  i=1\n",
        "  for jogo in jogos:\n",
        "    print(f'{i}) - {jogo}')\n",
        "    i+=1"
      ],
      "metadata": {
        "id": "Agq5b375qdGh"
      },
      "execution_count": 197,
      "outputs": []
    },
    {
      "cell_type": "code",
      "source": [
        "def verificar_acertos(aposta, resultado):\n",
        "  jogos = combinar_numeros(6, aposta)\n",
        "  cont5 = 0\n",
        "  cont4 = 0\n",
        "  cont3 = 0\n",
        "  cont2 = 0\n",
        "  cont1 = 0\n",
        "  cont = 0\n",
        "  jog5 = []\n",
        "  jog4 = []\n",
        "  jog3 = []\n",
        "  jog2 = []\n",
        "  jog1 = []\n",
        "  jog = []\n",
        "  for jogo in jogos:\n",
        "    qde = apurar_resultado(jogo,resultado)\n",
        "    # print(f\"qde - {qde}\\n\")\n",
        "    # print(f\"{jogo}\\n\\n\")\n",
        "    if qde==6:\n",
        "      print('Parabéns!!! Você acertou a sena!\\n')\n",
        "      print(resultado)\n",
        "    if qde==5:\n",
        "      cont5 += 1\n",
        "      jog5.append(jogo)\n",
        "    if qde==4:\n",
        "      cont4 += 1\n",
        "      jog4.append(jogo)   \n",
        "    if qde==3:\n",
        "      cont3 += 1\n",
        "      jog3.append(jogo)\n",
        "    if qde==2:\n",
        "      cont2 += 1\n",
        "      jog2.append(jogo)\n",
        "    if qde==1:\n",
        "      cont += 1\n",
        "      jog.append(jogo)\n",
        "  if cont5 > 0:\n",
        "    print(f'Você acertou a quina {cont5} vez(es) com o(s) seguinte(s) jogo(s):')\n",
        "    j=1\n",
        "    for jogo5 in jog5:\n",
        "        print(f'{j}) - {jogo5}')\n",
        "        j+=1\n",
        "  if cont4 > 0:\n",
        "    print(f'Você acertou a quadra {cont4} vez(es) com o(s) seguinte(s) jogo(s):')\n",
        "    j=1\n",
        "    for jogo4 in jog4:\n",
        "        print(f'{j}) - {jogo4}')\n",
        "        j+=1\n",
        "  if cont3 > 0:\n",
        "    print(f'Você acertou o terno {cont3} vez(es) com o(s) seguinte(s) jogo(s):')\n",
        "    j=1\n",
        "    for jogo3 in jog3:\n",
        "        print(f'{j}) - {jogo3}')\n",
        "        j+=1\n",
        "  if cont2 > 0:\n",
        "    print(f'Você acertou o duque (dois números) {cont2} vez(es) com o(s) seguinte(s) jogo(s):')\n",
        "    j=1\n",
        "    for jogo2 in jog2:\n",
        "        print(f'{j}) - {jogo2}')\n",
        "        j+=1\n",
        "  if cont1 > 0:\n",
        "    print(f'Você acertou apenas um número {cont2} vez(es) com o(s) seguinte(s) jogo(s):')\n",
        "    j=1\n",
        "    for jogo1 in jog1:\n",
        "        print(f'{j}) - {jogo1}')\n",
        "        j+=1\n",
        "  if cont > 0:\n",
        "    print(f'Você não acertou nenhum número {cont2} vez(es) com o(s) seguinte(s) jogo(s):')\n",
        "    j=1\n",
        "    for jogo0 in jog:\n",
        "        print(f'{j}) - {jogo0}')\n",
        "        j+=1"
      ],
      "metadata": {
        "id": "uDXQd1tSwc-3"
      },
      "execution_count": 18,
      "outputs": []
    },
    {
      "cell_type": "markdown",
      "source": [
        "SIMULAR JOGOS E RESULTADOS - VERIFICAR QUANTIDADE DE ACERTOS"
      ],
      "metadata": {
        "id": "XrvALWbcBjbI"
      }
    },
    {
      "cell_type": "code",
      "source": [
        "n = int(input(f\"Digite a quantidade de números quer apostar: \"))\n",
        "lista1 = aposta(n)\n",
        "print('\\n')\n",
        "lista2 = resultado()\n",
        "print('\\n')\n",
        "\n",
        "print('Os jogos derivados da sua aposta são:\\n')\n",
        "imprimir_jogos(lista1)\n",
        "\n",
        "verificar_acertos(lista1, lista2)\n",
        "\n",
        "# apurar_resultado(lista1, lista2)\n",
        "# print(f'Você acertou {apurar_resultado(lista1, lista2)} números')"
      ],
      "metadata": {
        "id": "K6xtHnZhiDX7"
      },
      "execution_count": null,
      "outputs": []
    },
    {
      "cell_type": "markdown",
      "source": [
        "SIMULAR JOGO ALEATÓRIO E VERIFICAR QUANTIDADE DE ACERTOS COM BASES EM PARAMETROS INFORMADOS (QUANTIDADE DE NÚMEROS QUE QUER ACERTAR)"
      ],
      "metadata": {
        "id": "F-rJNCavSiNe"
      }
    },
    {
      "cell_type": "code",
      "source": [
        "from ast import Yield\n",
        "import random \n",
        "import math\n",
        "n = int(input(f\"Digite a quantidade de números do qual quer apostar: \"))\n",
        "y = int(input(f\"Digite a quantidade de números do qual quer acertar: \"))\n",
        "\n",
        "Lista = []\n",
        "Lista2 = []\n",
        "\n",
        "def verificar_acertoGanhador(aposta, resultado):\n",
        "  jogos = combinar_numeros(6, aposta)\n",
        "  cont5 = 0\n",
        "  cont4 = 0\n",
        "  cont3 = 0\n",
        "  cont2 = 0\n",
        "  cont1 = 0\n",
        "  cont = 0\n",
        "  jog5 = []\n",
        "  jog4 = []\n",
        "  jog3 = []\n",
        "  jog2 = []\n",
        "  jog1 = []\n",
        "  jog = []\n",
        "  for jogo in jogos:\n",
        "    qde = apurar_resultado(jogo,resultado)\n",
        "    # print(f\"qde - {qde}\\n\")\n",
        "    # print(f\"{jogo}\\n\\n\")\n",
        "    if qde==6:\n",
        "      print('Parabéns!!! Você acertou a sena!')\n",
        "      print(resultado)\n",
        "    if qde==5:\n",
        "      cont5 += 1\n",
        "      jog5.append(jogo)\n",
        "    if qde==4:\n",
        "      cont4 += 1\n",
        "      jog4.append(jogo)   \n",
        "    if qde==3:\n",
        "      cont3 += 1\n",
        "      jog3.append(jogo)\n",
        "    if qde==2:\n",
        "      cont2 += 1\n",
        "      jog2.append(jogo)\n",
        "    if qde==1:\n",
        "      cont += 1\n",
        "      jog.append(jogo)\n",
        "  if cont5 > 0:\n",
        "    print(f'Você acertou a quina {cont5} vez(es) com o(s) seguinte(s) jogo(s):')\n",
        "    j=1\n",
        "    for jogo5 in jog5:\n",
        "        print(f'{j}) - {jogo5}')\n",
        "        j+=1\n",
        "  if cont4 > 0:\n",
        "    print(f'Você acertou a quadra {cont4} vez(es) com o(s) seguinte(s) jogo(s):')\n",
        "    j=1\n",
        "    for jogo4 in jog4:\n",
        "        print(f'{j}) - {jogo4}')\n",
        "        j+=1\n",
        "  \n",
        "def geradorAleatorio(n):\n",
        "  while len(Lista)<n: \n",
        "    a = math.ceil(60*random.random())\n",
        "    if a not in Lista:\n",
        "      Lista.append(a)\n",
        "  Lista.sort()\n",
        "  print(Lista)\n",
        "  return Lista\n",
        "\n",
        "def geradorResultado(Lista,y):\n",
        "  Lista2 = list(Lista)\n",
        "  a=len(Lista2)\n",
        "  while len(Lista2)>6:\n",
        "    Lista2.pop(0)\n",
        "  while len(Lista2)>y:\n",
        "    Lista2.pop(0)\n",
        "  while len(Lista2)<6:\n",
        "    a = math.ceil(60*random.random())\n",
        "    if a not in Lista:\n",
        "      if a not in Lista2:\n",
        "        Lista2.append(a)\n",
        "        Lista2.sort()\n",
        "  print(Lista2)\n",
        "  print(\"\\n\")\n",
        "  verificar_acertoGanhador(Lista,Lista2)\n",
        "\n",
        "geradorAleatorio(n)\n",
        "geradorResultado(Lista,y)\n",
        "\n",
        "# imprimir_jogos(Lista)"
      ],
      "metadata": {
        "id": "3TlS6dwiEdRX"
      },
      "execution_count": null,
      "outputs": []
    },
    {
      "cell_type": "markdown",
      "source": [
        "FAZER ESTATÍSTICAS DE ACERTOS"
      ],
      "metadata": {
        "id": "F42BEzk7TPFS"
      }
    },
    {
      "cell_type": "code",
      "source": [
        "from ast import Yield\n",
        "import random \n",
        "import math\n",
        "\n",
        "Lista = []\n",
        "Lista2 = []\n",
        "valorAposta = 4.50\n",
        "\n",
        "def verificar_acertoGanhador(aposta, resultado,z):\n",
        "  jogos = combinar_numeros(6, aposta)\n",
        "  cont5 = 0\n",
        "  cont4 = 0\n",
        "  cont6 = 0\n",
        "  qde = 0\n",
        "  n=len(aposta)\n",
        "  for jogo in jogos:\n",
        "    qde = apurar_resultado(jogo,resultado)\n",
        "    if qde==6:\n",
        "      cont6 += 1\n",
        "    if qde==5:\n",
        "      cont5 += 1\n",
        "    if qde==4:\n",
        "      cont4 += 1    \n",
        "  # print(f\"Com {n} números jogados na aposta do qual você acerta um total de {y} números, você faz também:\\n\")\n",
        "  print(f\"{n} jogados - {z} acertos ------> {cont6} Sena - {cont5} Quinas - {cont4} Quadras\")\n",
        "  cont6=cont5=cont4=0\n",
        "  \n",
        "def geradorAleatorio(n):\n",
        "  while len(Lista)<n: \n",
        "    a = math.ceil(60*random.random())\n",
        "    if a not in Lista:\n",
        "      Lista.append(a)\n",
        "  Lista.sort()\n",
        "  n = len(Lista)\n",
        "  # print(Lista)\n",
        "  return n\n",
        "\n",
        "def diminuirLista(Lista):\n",
        "  return Lista[1:]\n",
        "\n",
        "def valor(n, k):\n",
        "    return (math.factorial(n) // (math.factorial(k) * math.factorial(n - k)))*valorAposta\n",
        "\n",
        "def geradorResultado(Lista, y):\n",
        "  Lista2 = list(Lista)\n",
        "  a=len(Lista2)\n",
        "  while len(Lista2)>6:\n",
        "    Lista2.pop(0)\n",
        "  while len(Lista2)>y:\n",
        "    Lista2.pop(0)\n",
        "  while len(Lista2)<6:\n",
        "    a = math.ceil(60*random.random())\n",
        "    if a not in Lista:\n",
        "      if a not in Lista2:\n",
        "        Lista2.append(a)\n",
        "        Lista2.sort()\n",
        "  verificar_acertoGanhador(Lista,Lista2,y)\n",
        "  return Lista\n",
        "\n",
        "n = 21\n",
        "geradorAleatorio(n)\n",
        "\n",
        "while (n>6):\n",
        "  y=6\n",
        "  Lista = diminuirLista(Lista)\n",
        "  # print(Lista)\n",
        "  while (y>3): \n",
        "    # print(y)    \n",
        "    geradorResultado(Lista, y)\n",
        "    y-=1     \n",
        "  n-=1 \n",
        "  # print(f\"Valor da Aposta com {n} números: R$ {valor(n,6):,.2f}\\n\")\n",
        "  string = \"{:,.2f}\".format((valor(n,6))).replace(\".\",\"-\")\n",
        "  string = string.replace(\",\",\".\") \n",
        "  string = string.replace(\"-\",\",\")\n",
        "  print(f\"Valor da Aposta com {n} números: R$ {string}\\n\") "
      ],
      "metadata": {
        "colab": {
          "base_uri": "https://localhost:8080/"
        },
        "outputId": "a547391e-231c-4a24-b09c-b6b5ff6ab86b",
        "id": "-3IBMj3ITLO5"
      },
      "execution_count": 254,
      "outputs": [
        {
          "output_type": "stream",
          "name": "stdout",
          "text": [
            "20 jogados - 6 acertos ------> 1 Sena - 84 Quinas - 1365 Quadras\n",
            "20 jogados - 5 acertos ------> 0 Sena - 15 Quinas - 525 Quadras\n",
            "20 jogados - 4 acertos ------> 0 Sena - 0 Quinas - 120 Quadras\n",
            "Valor da Aposta com 20 números: R$ 174.420,00\n",
            "\n",
            "19 jogados - 6 acertos ------> 1 Sena - 78 Quinas - 1170 Quadras\n",
            "19 jogados - 5 acertos ------> 0 Sena - 14 Quinas - 455 Quadras\n",
            "19 jogados - 4 acertos ------> 0 Sena - 0 Quinas - 105 Quadras\n",
            "Valor da Aposta com 19 números: R$ 122.094,00\n",
            "\n",
            "18 jogados - 6 acertos ------> 1 Sena - 72 Quinas - 990 Quadras\n",
            "18 jogados - 5 acertos ------> 0 Sena - 13 Quinas - 390 Quadras\n",
            "18 jogados - 4 acertos ------> 0 Sena - 0 Quinas - 91 Quadras\n",
            "Valor da Aposta com 18 números: R$ 83.538,00\n",
            "\n",
            "17 jogados - 6 acertos ------> 1 Sena - 66 Quinas - 825 Quadras\n",
            "17 jogados - 5 acertos ------> 0 Sena - 12 Quinas - 330 Quadras\n",
            "17 jogados - 4 acertos ------> 0 Sena - 0 Quinas - 78 Quadras\n",
            "Valor da Aposta com 17 números: R$ 55.692,00\n",
            "\n",
            "16 jogados - 6 acertos ------> 1 Sena - 60 Quinas - 675 Quadras\n",
            "16 jogados - 5 acertos ------> 0 Sena - 11 Quinas - 275 Quadras\n",
            "16 jogados - 4 acertos ------> 0 Sena - 0 Quinas - 66 Quadras\n",
            "Valor da Aposta com 16 números: R$ 36.036,00\n",
            "\n",
            "15 jogados - 6 acertos ------> 1 Sena - 54 Quinas - 540 Quadras\n",
            "15 jogados - 5 acertos ------> 0 Sena - 10 Quinas - 225 Quadras\n",
            "15 jogados - 4 acertos ------> 0 Sena - 0 Quinas - 55 Quadras\n",
            "Valor da Aposta com 15 números: R$ 22.522,50\n",
            "\n",
            "14 jogados - 6 acertos ------> 1 Sena - 48 Quinas - 420 Quadras\n",
            "14 jogados - 5 acertos ------> 0 Sena - 9 Quinas - 180 Quadras\n",
            "14 jogados - 4 acertos ------> 0 Sena - 0 Quinas - 45 Quadras\n",
            "Valor da Aposta com 14 números: R$ 13.513,50\n",
            "\n",
            "13 jogados - 6 acertos ------> 1 Sena - 42 Quinas - 315 Quadras\n",
            "13 jogados - 5 acertos ------> 0 Sena - 8 Quinas - 140 Quadras\n",
            "13 jogados - 4 acertos ------> 0 Sena - 0 Quinas - 36 Quadras\n",
            "Valor da Aposta com 13 números: R$ 7.722,00\n",
            "\n",
            "12 jogados - 6 acertos ------> 1 Sena - 36 Quinas - 225 Quadras\n",
            "12 jogados - 5 acertos ------> 0 Sena - 7 Quinas - 105 Quadras\n",
            "12 jogados - 4 acertos ------> 0 Sena - 0 Quinas - 28 Quadras\n",
            "Valor da Aposta com 12 números: R$ 4.158,00\n",
            "\n",
            "11 jogados - 6 acertos ------> 1 Sena - 30 Quinas - 150 Quadras\n",
            "11 jogados - 5 acertos ------> 0 Sena - 6 Quinas - 75 Quadras\n",
            "11 jogados - 4 acertos ------> 0 Sena - 0 Quinas - 21 Quadras\n",
            "Valor da Aposta com 11 números: R$ 2.079,00\n",
            "\n",
            "10 jogados - 6 acertos ------> 1 Sena - 24 Quinas - 90 Quadras\n",
            "10 jogados - 5 acertos ------> 0 Sena - 5 Quinas - 50 Quadras\n",
            "10 jogados - 4 acertos ------> 0 Sena - 0 Quinas - 15 Quadras\n",
            "Valor da Aposta com 10 números: R$ 945,00\n",
            "\n",
            "9 jogados - 6 acertos ------> 1 Sena - 18 Quinas - 45 Quadras\n",
            "9 jogados - 5 acertos ------> 0 Sena - 4 Quinas - 30 Quadras\n",
            "9 jogados - 4 acertos ------> 0 Sena - 0 Quinas - 10 Quadras\n",
            "Valor da Aposta com 9 números: R$ 378,00\n",
            "\n",
            "8 jogados - 6 acertos ------> 1 Sena - 12 Quinas - 15 Quadras\n",
            "8 jogados - 5 acertos ------> 0 Sena - 3 Quinas - 15 Quadras\n",
            "8 jogados - 4 acertos ------> 0 Sena - 0 Quinas - 6 Quadras\n",
            "Valor da Aposta com 8 números: R$ 126,00\n",
            "\n",
            "7 jogados - 6 acertos ------> 1 Sena - 6 Quinas - 0 Quadras\n",
            "7 jogados - 5 acertos ------> 0 Sena - 2 Quinas - 5 Quadras\n",
            "7 jogados - 4 acertos ------> 0 Sena - 0 Quinas - 3 Quadras\n",
            "Valor da Aposta com 7 números: R$ 31,50\n",
            "\n",
            "6 jogados - 6 acertos ------> 1 Sena - 0 Quinas - 0 Quadras\n",
            "6 jogados - 5 acertos ------> 0 Sena - 1 Quinas - 0 Quadras\n",
            "6 jogados - 4 acertos ------> 0 Sena - 0 Quinas - 1 Quadras\n",
            "Valor da Aposta com 6 números: R$ 4,50\n",
            "\n"
          ]
        }
      ]
    },
    {
      "cell_type": "markdown",
      "source": [
        "Rascunho e Testes\n",
        "\n"
      ],
      "metadata": {
        "id": "mTmhYZ_nYz1_"
      }
    },
    {
      "cell_type": "code",
      "source": [
        "L= [1,2,3,4,5,6]\n",
        "\n",
        "def gerarResultado(Lista,y):\n",
        "  Lista2 = list(Lista)\n",
        "  a=len(Lista2)\n",
        "  while len(Lista2)>6:\n",
        "    Lista2.pop(0)\n",
        "  while len(Lista2)>y:\n",
        "    Lista2.pop(0)\n",
        "  while len(Lista2)<6:\n",
        "    a = math.ceil(60*random.random())\n",
        "    if a not in Lista:\n",
        "      if a not in Lista2:\n",
        "        Lista2.append(a)\n",
        "        Lista2.sort()\n",
        "  print(Lista2)\n",
        "  print(\"\\n\")\n",
        " \n",
        "gerarResultado(L,6)"
      ],
      "metadata": {
        "id": "bEDehbciIna0"
      },
      "execution_count": null,
      "outputs": []
    },
    {
      "cell_type": "code",
      "source": [
        "amount = 55692.0\n",
        "formatted_amount = \"{:.2f}\".format(amount).replace(\".\", \",\")\n",
        "# formatted_amount = \"{:,.2f}\".format(amount).replace(\".\", \",\")\n",
        "print(\"O preço do sapato é R$ \" + formatted_amount)"
      ],
      "metadata": {
        "colab": {
          "base_uri": "https://localhost:8080/"
        },
        "id": "o_R4Dcyhl2nP",
        "outputId": "04744e32-45d7-4bf5-c33a-2f2cc606228c"
      },
      "execution_count": 245,
      "outputs": [
        {
          "output_type": "stream",
          "name": "stdout",
          "text": [
            "O preço do sapato é R$ 55692,00\n"
          ]
        }
      ]
    },
    {
      "cell_type": "code",
      "source": [],
      "metadata": {
        "id": "1MJMM_0jtCXn"
      },
      "execution_count": null,
      "outputs": []
    }
  ]
}