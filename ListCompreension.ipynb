{
  "nbformat": 4,
  "nbformat_minor": 0,
  "metadata": {
    "colab": {
      "provenance": [],
      "authorship_tag": "ABX9TyNwEoasr88DJacDi0S2inu/",
      "include_colab_link": true
    },
    "kernelspec": {
      "name": "python3",
      "display_name": "Python 3"
    },
    "language_info": {
      "name": "python"
    }
  },
  "cells": [
    {
      "cell_type": "markdown",
      "metadata": {
        "id": "view-in-github",
        "colab_type": "text"
      },
      "source": [
        "<a href=\"https://colab.research.google.com/github/alissonufu/Aprendizado/blob/main/ListCompreension.ipynb\" target=\"_parent\"><img src=\"https://colab.research.google.com/assets/colab-badge.svg\" alt=\"Open In Colab\"/></a>"
      ]
    },
    {
      "cell_type": "markdown",
      "source": [
        "Compartilhe o link:\n",
        "\n",
        "https://colab.research.google.com/drive/1gdohFN1w4MIWa1ZGUPN1wr6je1ykMBD7?usp=sharing\n",
        "\n",
        "Caminho desse arquivo:\n",
        "\n",
        "/content/drive/MyDrive/Colab Notebooks/ListCompreension.ipynb"
      ],
      "metadata": {
        "id": "jJY2qci5FrHs"
      }
    },
    {
      "cell_type": "markdown",
      "source": [
        "Material de apoio e consulta:\n",
        "\n",
        "https://pythonacademy.com.br/blog/list-comprehensions-no-python\n",
        "Post escrito da Python Academy\n",
        "\n",
        "https://www.youtube.com/watch?v=1YbTDczvqco - List Comprehension em Python: tudo o que você precisa saber com Otavio Miranda\n",
        "\n",
        "https://www.youtube.com/watch?v=M2zL6LnQwkw - \n",
        "Canal Hashtag Treinamentos com Lira"
      ],
      "metadata": {
        "id": "f04287blxFHV"
      }
    },
    {
      "cell_type": "markdown",
      "source": [
        "Fazendo com for (do jeito normal)\n",
        "\n",
        "Caso 1: Dobrar o valor de um produto.\n",
        "\n",
        "Caso 2: Todos os produtos que custarem acima de 1.000 dolares, imposto de 50% sobre o valor total."
      ],
      "metadata": {
        "id": "KuY301TbGoUK"
      }
    },
    {
      "cell_type": "code",
      "execution_count": null,
      "metadata": {
        "colab": {
          "base_uri": "https://localhost:8080/"
        },
        "id": "4ozqzLn2FfbJ",
        "outputId": "3e6a41ee-43bd-4c17-e17b-9daf3b946914"
      },
      "outputs": [
        {
          "output_type": "stream",
          "name": "stdout",
          "text": [
            "[1000, 3000, 4000, 200, 50]\n",
            "[750.0, 1000.0]\n"
          ]
        }
      ],
      "source": [
        "precos = [500, 1500, 2000, 100, 25]\n",
        "\n",
        "# Caso 1\n",
        "novo_preco = []\n",
        "for preco in precos:\n",
        "    novo_preco.append(preco * 2)\n",
        "print(novo_preco)\n",
        "\n",
        "# Caso 2\n",
        "imposto = []\n",
        "for preco in precos:\n",
        "    if preco > 1000:\n",
        "        imposto.append(preco / 2)\n",
        "print(imposto)"
      ]
    },
    {
      "cell_type": "markdown",
      "source": [
        "Fazendo com List Comprehension:"
      ],
      "metadata": {
        "id": "NqiPRyjqG9T3"
      }
    },
    {
      "cell_type": "code",
      "source": [
        "# Sua sintaxe básica é:\n",
        "# [expr for item in lista if cond]\n",
        "\n",
        "# Caso 1\n",
        "novo_preco2 = [preco * 2 for preco in precos]\n",
        "print(novo_preco2)\n",
        "\n",
        "# Caso 2\n",
        "imposto2 = [preco / 2 for preco in precos if preco > 1000]\n",
        "print(imposto2)"
      ],
      "metadata": {
        "colab": {
          "base_uri": "https://localhost:8080/"
        },
        "id": "-18gVjewGtBQ",
        "outputId": "a0513708-8d52-46e1-e5b2-b7d556732508"
      },
      "execution_count": null,
      "outputs": [
        {
          "output_type": "stream",
          "name": "stdout",
          "text": [
            "[1000, 3000, 4000, 200, 50]\n",
            "[750.0, 1000.0]\n"
          ]
        }
      ]
    },
    {
      "cell_type": "markdown",
      "source": [
        "Qual a vantagem?\n",
        "\n",
        "a) tudo em 1 linha de código\n",
        "\n",
        "b) mais rápido e \"simples\" se você já está acostumado\n"
      ],
      "metadata": {
        "id": "DfecsNLRHJM_"
      }
    },
    {
      "cell_type": "code",
      "source": [
        "# Caso 2 com mais de 1 condição (if e else)\n",
        "\n",
        "# A sintaxe básica para essa construção é:\n",
        "\n",
        "# [resultado_do_se if exprCond else resultado_do_else for item in lista]\n",
        "\n",
        "\n",
        "imposto3 = [0 if preco < 1000 else preco/2 for preco in precos]\n",
        "print(imposto3)\n",
        "\n",
        "# Outro exemplo\n",
        "\n",
        "imposto4 = [preco / 2 if preco==2000 else 0 for preco in precos if preco > 1000]\n",
        "print(imposto4)            # Para os valores maiores de 1000, cobrar 0, mas se for preço igual 2000, cobrar 50% de imposto. "
      ],
      "metadata": {
        "colab": {
          "base_uri": "https://localhost:8080/"
        },
        "id": "8LwpE-q4HDsH",
        "outputId": "cdb7afc7-f8e2-4047-b31c-7ee45c92986d"
      },
      "execution_count": null,
      "outputs": [
        {
          "output_type": "stream",
          "name": "stdout",
          "text": [
            "[0, 750.0, 1000.0, 0, 0]\n",
            "[0, 1000.0]\n"
          ]
        }
      ]
    },
    {
      "cell_type": "code",
      "source": [
        "# precos = [500, 1500, 2000, 100, 25]\n",
        "\n",
        "# Caso 2 com mais de 1 condição if\n",
        "\n",
        "# A sintaxe básica para essa construção é:\n",
        "\n",
        "# [expr for item in lista if cond if cond]\n",
        "\n",
        "imposto5 = [preco * 0.5 for preco in precos if preco > 1000 if preco != 2000]\n",
        "print(imposto5)             # 50% de imposto se maior que 1000 exceto se o valor não for igual a 2000 "
      ],
      "metadata": {
        "colab": {
          "base_uri": "https://localhost:8080/"
        },
        "id": "SEbB8zzhJjkm",
        "outputId": "1e510230-5742-46d5-d95e-441e2121fa15"
      },
      "execution_count": null,
      "outputs": [
        {
          "output_type": "stream",
          "name": "stdout",
          "text": [
            "[750.0]\n"
          ]
        }
      ]
    },
    {
      "cell_type": "markdown",
      "source": [
        "FUNÇÕES ANINHADAS"
      ],
      "metadata": {
        "id": "4k5iTQQH9yPG"
      }
    },
    {
      "cell_type": "code",
      "source": [
        "matrix = [\n",
        "  [1, 2, 3, 4],\n",
        "  [5, 6, 7, 8],\n",
        "  [9, 10, 11, 12]\n",
        "]\n",
        "\n",
        "# Transpor uma matriz, significa transformar as linhas em colunas e vice-versa\n",
        "\n",
        "transposta = []\n",
        "matriz = [[1, 2, 3, 4], [5, 6, 7, 8], [9, 10, 11, 12]]\n",
        "\n",
        "# Jeito de fazer sem usar list compreension\n",
        "\n",
        "for i in range(len(matriz[0])):\n",
        "    linha_transposta = []\n",
        "\n",
        "    for linha in matriz:\n",
        "        linha_transposta.append(linha[i])\n",
        "    transposta.append(linha_transposta)\n",
        "\n",
        "print(matriz)\n",
        "print(transposta)"
      ],
      "metadata": {
        "colab": {
          "base_uri": "https://localhost:8080/"
        },
        "id": "M-Du-hBF9LVg",
        "outputId": "d457f6d4-18e3-495e-d72d-32b79f74d91c"
      },
      "execution_count": null,
      "outputs": [
        {
          "output_type": "stream",
          "name": "stdout",
          "text": [
            "[[1, 2, 3, 4], [5, 6, 7, 8], [9, 10, 11, 12]]\n",
            "[[1, 5, 9], [2, 6, 10], [3, 7, 11], [4, 8, 12]]\n"
          ]
        }
      ]
    },
    {
      "cell_type": "code",
      "source": [
        "# Podemos reescrever o código acima, de transposição de matrizes, da seguinte forma, utilizando list comprehension:\n",
        "\n",
        "transposta2 = [[linha[i] for linha in matriz] for i in range(4)]\n",
        "print(transposta2)\n",
        "\n",
        "# No código acima:\n",
        "\n",
        "# No primeiro loop, i assume o valor de 0, portanto [linha[0] for linha in matriz] vai retornar o primeiro elemento de cada linha: [1, 4, 9]\n",
        "# No segundo loop, i assume o valor de 1, portanto [linha[1] for linha in matriz] vai retornar o segundo elemento de cada linha: [2, 5, 10]\n",
        "# No terceiro loop, i assume o valor de 2, portanto [linha[2] for linha in matriz] vai retornar o terceiro elemento de cada linha: [3, 6, 11]\n",
        "# No quarto loop, i assume o valor de 3, portanto [linha[3] for linha in matriz] vai retornar o quarto elemento de cada linha: [4, 8, 12]\n",
        "# Obtendo, assim, o mesmo resultado."
      ],
      "metadata": {
        "colab": {
          "base_uri": "https://localhost:8080/"
        },
        "id": "BaI4DN6s-CMd",
        "outputId": "81f01a1a-14de-42d3-89bb-380abd91ebe5"
      },
      "execution_count": null,
      "outputs": [
        {
          "output_type": "stream",
          "name": "stdout",
          "text": [
            "[[1, 5, 9], [2, 6, 10], [3, 7, 11], [4, 8, 12]]\n"
          ]
        }
      ]
    },
    {
      "cell_type": "code",
      "source": [
        "# Outro exemplo\n",
        "\n",
        "for x in range(1,11):\n",
        "  for y in range (1,6):\n",
        "    # print(x, y)          #Imprime em várias linhas uma única tupla\n",
        "    x  #Caso descomente a linha acima, comente esta.\n",
        "\n",
        "# fazendo com list compreension\n",
        "linhas_e_colunas = [x-y for x in range (1,11) for y in range (1,6)]\n",
        "print(f\"1 = {linhas_e_colunas}\")   #Imprime tudo numa linha só\n",
        "linhas_e_colunas2 = [(x,y) for x in range (1,11) for y in range (1,6)]\n",
        "print(f\"2 = {linhas_e_colunas2}\")  #Imprime tudo numa linha só\n",
        "linhas_e_colunas3 = [(x,y) if y!=2 else (x,y*2) for x in range (1,11) for y in range (1,6)]\n",
        "print(f\"3 = {linhas_e_colunas3}\")   #Imprime tudo numa linha só. Quando o y for diferente de 2, o y será dobrado\n",
        "linhas_e_colunas4 = [(x,y) if y!=2 else (x*2,y*2) for x in range (1,11) for y in range (1,6)]\n",
        "print(f\"4 = {linhas_e_colunas4}\")   #Imprime tudo numa linha só. Quando o y for diferente de 2, o x e y será dobrado\n",
        "linhas_e_colunas5 = [(x,y) if y!=2 else (x*2,y*2) for x in range (1,11) for y in range (1,6) if x !=2]\n",
        "print(f\"5 = {linhas_e_colunas5}\")   #Imprime tudo numa linha só. Quando o y for diferente de 2, o x e y será dobrado, somente para os valores em que o X for diferente de 2"
      ],
      "metadata": {
        "colab": {
          "base_uri": "https://localhost:8080/"
        },
        "id": "HEAiVzB4-gEw",
        "outputId": "2ec202d2-2734-41e7-f030-97cb49361bfd"
      },
      "execution_count": null,
      "outputs": [
        {
          "output_type": "stream",
          "name": "stdout",
          "text": [
            "1 = [0, -1, -2, -3, -4, 1, 0, -1, -2, -3, 2, 1, 0, -1, -2, 3, 2, 1, 0, -1, 4, 3, 2, 1, 0, 5, 4, 3, 2, 1, 6, 5, 4, 3, 2, 7, 6, 5, 4, 3, 8, 7, 6, 5, 4, 9, 8, 7, 6, 5]\n",
            "2 = [(1, 1), (1, 2), (1, 3), (1, 4), (1, 5), (2, 1), (2, 2), (2, 3), (2, 4), (2, 5), (3, 1), (3, 2), (3, 3), (3, 4), (3, 5), (4, 1), (4, 2), (4, 3), (4, 4), (4, 5), (5, 1), (5, 2), (5, 3), (5, 4), (5, 5), (6, 1), (6, 2), (6, 3), (6, 4), (6, 5), (7, 1), (7, 2), (7, 3), (7, 4), (7, 5), (8, 1), (8, 2), (8, 3), (8, 4), (8, 5), (9, 1), (9, 2), (9, 3), (9, 4), (9, 5), (10, 1), (10, 2), (10, 3), (10, 4), (10, 5)]\n",
            "3 = [(1, 1), (1, 4), (1, 3), (1, 4), (1, 5), (2, 1), (2, 4), (2, 3), (2, 4), (2, 5), (3, 1), (3, 4), (3, 3), (3, 4), (3, 5), (4, 1), (4, 4), (4, 3), (4, 4), (4, 5), (5, 1), (5, 4), (5, 3), (5, 4), (5, 5), (6, 1), (6, 4), (6, 3), (6, 4), (6, 5), (7, 1), (7, 4), (7, 3), (7, 4), (7, 5), (8, 1), (8, 4), (8, 3), (8, 4), (8, 5), (9, 1), (9, 4), (9, 3), (9, 4), (9, 5), (10, 1), (10, 4), (10, 3), (10, 4), (10, 5)]\n",
            "4 = [(1, 1), (2, 4), (1, 3), (1, 4), (1, 5), (2, 1), (4, 4), (2, 3), (2, 4), (2, 5), (3, 1), (6, 4), (3, 3), (3, 4), (3, 5), (4, 1), (8, 4), (4, 3), (4, 4), (4, 5), (5, 1), (10, 4), (5, 3), (5, 4), (5, 5), (6, 1), (12, 4), (6, 3), (6, 4), (6, 5), (7, 1), (14, 4), (7, 3), (7, 4), (7, 5), (8, 1), (16, 4), (8, 3), (8, 4), (8, 5), (9, 1), (18, 4), (9, 3), (9, 4), (9, 5), (10, 1), (20, 4), (10, 3), (10, 4), (10, 5)]\n",
            "5 = [(1, 1), (2, 4), (1, 3), (1, 4), (1, 5), (3, 1), (6, 4), (3, 3), (3, 4), (3, 5), (4, 1), (8, 4), (4, 3), (4, 4), (4, 5), (5, 1), (10, 4), (5, 3), (5, 4), (5, 5), (6, 1), (12, 4), (6, 3), (6, 4), (6, 5), (7, 1), (14, 4), (7, 3), (7, 4), (7, 5), (8, 1), (16, 4), (8, 3), (8, 4), (8, 5), (9, 1), (18, 4), (9, 3), (9, 4), (9, 5), (10, 1), (20, 4), (10, 3), (10, 4), (10, 5)]\n"
          ]
        }
      ]
    },
    {
      "cell_type": "code",
      "source": [
        "# Outro exemplo de uso \n",
        "numeros = [[numero, numero ** 2] for numero in range(10)]\n",
        "print (numeros)\n",
        "flat = [y for x in numeros for y in x]\n",
        "print(flat)"
      ],
      "metadata": {
        "id": "2mF3cQtKIyTE",
        "colab": {
          "base_uri": "https://localhost:8080/"
        },
        "outputId": "3e265ffa-8339-47a4-a437-3b0e7e73dcf9"
      },
      "execution_count": 39,
      "outputs": [
        {
          "output_type": "stream",
          "name": "stdout",
          "text": [
            "[[0, 0], [1, 1], [2, 4], [3, 9], [4, 16], [5, 25], [6, 36], [7, 49], [8, 64], [9, 81]]\n",
            "[0, 0, 1, 1, 2, 4, 3, 9, 4, 16, 5, 25, 6, 36, 7, 49, 8, 64, 9, 81]\n"
          ]
        }
      ]
    },
    {
      "cell_type": "code",
      "source": [
        "# Exemplo com Strings\n",
        "string = 'Alisson William'\n",
        "listadeletras = [letra for letra in string]\n",
        "print (listadeletras)"
      ],
      "metadata": {
        "colab": {
          "base_uri": "https://localhost:8080/"
        },
        "id": "QRZGwLZ0VLbo",
        "outputId": "63389ab6-0430-4f88-ca3f-db6a5351642c"
      },
      "execution_count": 5,
      "outputs": [
        {
          "output_type": "stream",
          "name": "stdout",
          "text": [
            "['A', 'l', 'i', 's', 's', 'o', 'n', ' ', 'W', 'i', 'l', 'l', 'i', 'a', 'm']\n"
          ]
        }
      ]
    },
    {
      "cell_type": "code",
      "source": [
        "# Exemplo com Strings2\n",
        "# Usando o join para concatenar as letras em uma nova string\n",
        "string2 = 'Alisson William'\n",
        "listadeletras2 = ''.join([letra for letra in string])\n",
        "print (listadeletras2)\n",
        "\n",
        "\n",
        "# O método .join() é usado para concatenar uma lista de strings em uma única string, separando cada elemento da lista por um separador específico.\n",
        "# A estrutura básica do método .join() é a seguinte: separador.join(iterável)\n",
        "# Onde:\n",
        "  # separador: é uma string que será usada como separador entre os elementos da lista;\n",
        "  # iterável: é uma lista de strings que serão concatenadas.\n",
        "# Exemplo:\n",
        "# palavras = ['Hello', 'world', 'from', 'Python']\n",
        "# separador = ' '\n",
        "# frase = separador.join(palavras)\n",
        "# print(frase)\n",
        "# O resultado será a string 'Hello world from Python'."
      ],
      "metadata": {
        "colab": {
          "base_uri": "https://localhost:8080/"
        },
        "id": "7aijPoBYV-Ls",
        "outputId": "2862a80a-4e07-49e6-c4ac-b419146fcd5b"
      },
      "execution_count": 7,
      "outputs": [
        {
          "output_type": "stream",
          "name": "stdout",
          "text": [
            "Alisson William\n"
          ]
        }
      ]
    },
    {
      "cell_type": "code",
      "source": [
        "# Exemplo com Strings3\n",
        "# Usando o list compreension para concatenar de duas em duas letras letras em uma nova lista\n",
        "string3 = 'Alisson William'\n",
        "listadeletras3 = [[string[indice:indice+2] for indice in range(len(string3))]]\n",
        "print (listadeletras3)"
      ],
      "metadata": {
        "colab": {
          "base_uri": "https://localhost:8080/"
        },
        "id": "U0qSmQQ1WYSp",
        "outputId": "d9df171b-d5f5-4c85-e6b6-450420e5dc30"
      },
      "execution_count": 8,
      "outputs": [
        {
          "output_type": "stream",
          "name": "stdout",
          "text": [
            "[['Al', 'li', 'is', 'ss', 'so', 'on', 'n ', ' W', 'Wi', 'il', 'll', 'li', 'ia', 'am', 'm']]\n"
          ]
        }
      ]
    },
    {
      "cell_type": "code",
      "source": [
        "# Exemplo com Strings4\n",
        "# Usando o list compreension para concatenar de duas em duas letras letras em uma nova lista sem repetir\n",
        "numeroLetras = 2\n",
        "string4 = 'Alisson William'\n",
        "listadeletras4 = [[string[indice:indice+numeroLetras] for indice in range(0,len(string3),2)]]\n",
        "print (listadeletras4)\n",
        "\n",
        "# Em Python, a função range() é usada para gerar uma sequência de números em uma determinada faixa. A estrutura básica da função é a seguinte:\n",
        "  # range(start, stop, step)\n",
        "# Onde:\n",
        "  # start (opcional): é o número que inicia a sequência. Se não for fornecido, assume-se que é 0;\n",
        "  # stop: é o número que encerra a sequência (não incluso);\n",
        "  # step (opcional): é o incremento entre cada número na sequência. Se não for fornecido, assume-se que é 1."
      ],
      "metadata": {
        "colab": {
          "base_uri": "https://localhost:8080/"
        },
        "id": "J1_UIV3iYyKb",
        "outputId": "dd90e354-ce1d-470e-cc6c-883aecca150e"
      },
      "execution_count": 9,
      "outputs": [
        {
          "output_type": "stream",
          "name": "stdout",
          "text": [
            "[['Al', 'is', 'so', 'n ', 'Wi', 'll', 'ia', 'm']]\n"
          ]
        }
      ]
    },
    {
      "cell_type": "code",
      "source": [
        "# Exemplo usando CPF\n",
        "numero_Letras = 3\n",
        "cpf = '12345678901'\n",
        "cpf_alterado = '.'.join([cpf[indice:indice+numero_Letras] for indice in range(0, len(cpf),3)])\n",
        "cpf_formatado = cpf_alterado[0:-3] + \"-\" + cpf_alterado[-2:]\n",
        "# print(cpf_alterado)\n",
        "print(cpf_formatado)"
      ],
      "metadata": {
        "colab": {
          "base_uri": "https://localhost:8080/"
        },
        "id": "QlV-9AqzZdVk",
        "outputId": "e3a22c2b-57ed-482e-e65f-5ca1be759ac8"
      },
      "execution_count": 25,
      "outputs": [
        {
          "output_type": "stream",
          "name": "stdout",
          "text": [
            "123.456.789-01\n"
          ]
        }
      ]
    },
    {
      "cell_type": "code",
      "source": [
        "# Exemplo usando nomes \n",
        "\n",
        "nomes = ['Alisson', 'Jéssica', 'Anna Carolina', 'Beatriz', 'Bianca'] # Lista\n",
        "nomes2 = ('Alisson', 'Jéssica', 'Anna cArolina', 'beatriz', 'bianca') # Tupla\n",
        "\n",
        "print(nomes)\n",
        "print(nomes2)\n",
        "\n",
        "novos_nomes = [nome for nome in nomes]\n",
        "print(novos_nomes)\n",
        "\n",
        "novos_nomes2 = [nome for nome in nomes2]\n",
        "print(novos_nomes2) # Neste caso, o comando transformou numa lista aquilo que estava em outro iterável (tupla)\n",
        "\n",
        "nomes_minusculos = [nome.lower() for nome in nomes2]\n",
        "print(nomes_minusculos)\n",
        "\n",
        "nomes_maiusculos = [nome.upper() for nome in nomes2]\n",
        "print(nomes_maiusculos)\n",
        "\n",
        "nomes_CamelCase = [nome.title() for nome in nomes_minusculos]\n",
        "print(nomes_CamelCase)\n",
        "\n",
        "nomes_CamelCase2 = [nome.title() for nome in nomes2]\n",
        "print(nomes_CamelCase2)\n",
        "\n",
        "nomes_CamelCase3 = [f'{nome[0].upper()}{nome[1:].lower()}' for nome in nomes2]\n",
        "print(nomes_CamelCase2)"
      ],
      "metadata": {
        "colab": {
          "base_uri": "https://localhost:8080/"
        },
        "id": "SPmd8iskaUqg",
        "outputId": "672c67a9-3fef-4db7-dfcf-91e42758ad70"
      },
      "execution_count": 38,
      "outputs": [
        {
          "output_type": "stream",
          "name": "stdout",
          "text": [
            "['Alisson', 'Jéssica', 'Anna Carolina', 'Beatriz', 'Bianca']\n",
            "('Alisson', 'Jéssica', 'Anna cArolina', 'beatriz', 'bianca')\n",
            "['Alisson', 'Jéssica', 'Anna Carolina', 'Beatriz', 'Bianca']\n",
            "['Alisson', 'Jéssica', 'Anna cArolina', 'beatriz', 'bianca']\n",
            "['alisson', 'jéssica', 'anna carolina', 'beatriz', 'bianca']\n",
            "['ALISSON', 'JÉSSICA', 'ANNA CAROLINA', 'BEATRIZ', 'BIANCA']\n",
            "['Alisson', 'Jéssica', 'Anna Carolina', 'Beatriz', 'Bianca']\n",
            "['Alisson', 'Jéssica', 'Anna Carolina', 'Beatriz', 'Bianca']\n",
            "['Alisson', 'Jéssica', 'Anna Carolina', 'Beatriz', 'Bianca']\n"
          ]
        }
      ]
    },
    {
      "cell_type": "code",
      "source": [],
      "metadata": {
        "id": "tafLFlt4jSK8"
      },
      "execution_count": null,
      "outputs": []
    }
  ]
}