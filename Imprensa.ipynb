{
  "nbformat": 4,
  "nbformat_minor": 0,
  "metadata": {
    "colab": {
      "provenance": [],
      "mount_file_id": "1RLtc_IUt8FkF4akn8k_P4G2yz8rvlxJ7",
      "authorship_tag": "ABX9TyMhWs6s5mB3fzcCQEZ6ZAtV",
      "include_colab_link": true
    },
    "kernelspec": {
      "name": "python3",
      "display_name": "Python 3"
    },
    "language_info": {
      "name": "python"
    }
  },
  "cells": [
    {
      "cell_type": "markdown",
      "metadata": {
        "id": "view-in-github",
        "colab_type": "text"
      },
      "source": [
        "<a href=\"https://colab.research.google.com/github/alissonufu/Aprendizado/blob/main/Imprensa.ipynb\" target=\"_parent\"><img src=\"https://colab.research.google.com/assets/colab-badge.svg\" alt=\"Open In Colab\"/></a>"
      ]
    },
    {
      "cell_type": "code",
      "source": [
        "!pip install bs4"
      ],
      "metadata": {
        "id": "jtFarLxOIoYj",
        "colab": {
          "base_uri": "https://localhost:8080/"
        },
        "outputId": "962f2ffb-5ba5-452f-8a60-effdb21f7794"
      },
      "execution_count": null,
      "outputs": [
        {
          "output_type": "stream",
          "name": "stdout",
          "text": [
            "Looking in indexes: https://pypi.org/simple, https://us-python.pkg.dev/colab-wheels/public/simple/\n",
            "Requirement already satisfied: bs4 in /usr/local/lib/python3.7/dist-packages (0.0.1)\n",
            "Requirement already satisfied: beautifulsoup4 in /usr/local/lib/python3.7/dist-packages (from bs4) (4.6.3)\n"
          ]
        }
      ]
    },
    {
      "cell_type": "code",
      "source": [
        "from urllib.request import urlopen, urlretrieve, Request"
      ],
      "metadata": {
        "id": "zz9uBCeuIyze"
      },
      "execution_count": null,
      "outputs": []
    },
    {
      "cell_type": "code",
      "source": [
        "from urllib.error import URLError, HTTPError"
      ],
      "metadata": {
        "id": "cRaw8gbpJKvu"
      },
      "execution_count": null,
      "outputs": []
    },
    {
      "cell_type": "code",
      "source": [
        "from bs4 import BeautifulSoup"
      ],
      "metadata": {
        "id": "zhyynLwrJSY-"
      },
      "execution_count": null,
      "outputs": []
    },
    {
      "cell_type": "code",
      "source": [
        "import pandas as pd"
      ],
      "metadata": {
        "id": "Du6F29ndHvqZ"
      },
      "execution_count": null,
      "outputs": []
    },
    {
      "cell_type": "code",
      "source": [
        "from urllib.request import urlopen \n",
        "from bs4 import BeautifulSoup \n",
        "#url = \"https://www.crummy.com/software/BeautifulSoup/bs4/doc/\"\n",
        "url = input (\"Digite a URL:\")\n",
        "soup = BeautifulSoup(urlopen(url)) \n",
        "print()\n",
        "print(\"\\item - \", soup.title.get_text())\n",
        "print(\"\")\n",
        "print(\"\\\\url{\",url,\"}\")\n",
        "#print(soup.head)\n",
        "#teste = soup.find_all('meta content')\n",
        "#print(teste)\n",
        "\n",
        "#print(soup.get_text())  # Imprimir todo o texto \n",
        "#meta content  description\n",
        "#meta content DC.date.created\n",
        "\n",
        "#print(soup.title.string) #imprime o título\n",
        "\n",
        "teste = soup.find_all(id=\"text-content\")\n",
        "print(teste)"
      ],
      "metadata": {
        "id": "9F-7IUaSWQLM"
      },
      "execution_count": null,
      "outputs": []
    },
    {
      "cell_type": "code",
      "source": [
        "from collections.abc import Mapping\n",
        "from IPython.utils.io import temp_pyfile\n",
        "import tempfile\n",
        "from urllib.request import urlopen \n",
        "from bs4 import BeautifulSoup \n",
        "\n",
        "leitura = open(\"/content/drive/MyDrive/UFU/Testes/testepython.txt\",\"r\")\n",
        "# r - leitura\n",
        "# a - Append / Incrementar\n",
        "# w - Escrita\n",
        "# x - Criar Arquivo\n",
        "# r+ - Leitura + Escrita\n",
        "\n",
        "lista = leitura.readlines()\n",
        "#print(lista)\n",
        "leitura.close()\n",
        "\n",
        "arquivosaida = open(\"/content/drive/MyDrive/UFU/Testes/testeOverleaf.txt\",\"w\")\n",
        "texto1 = \"\\item - \"\n",
        "texto2 = \"\\n\\n \\\\url{\"\n",
        "\n",
        "for i in lista:\n",
        "    soup = BeautifulSoup(urlopen(i))\n",
        "    arquivosaida.write(texto1)\n",
        "    arquivosaida.write(soup.title.get_text())\n",
        "    arquivosaida.write(texto2)\n",
        "    i = i.replace('\\n', '}\\n\\n')\n",
        "    arquivosaida.write(i)\n",
        "   \n",
        "\n",
        "arquivosaida.close()"
      ],
      "metadata": {
        "id": "OnyqlK1xGExb"
      },
      "execution_count": null,
      "outputs": []
    },
    {
      "cell_type": "code",
      "source": [
        "!pip install --upgrade gspread"
      ],
      "metadata": {
        "id": "mY8KlLxz72Mz"
      },
      "execution_count": null,
      "outputs": []
    },
    {
      "cell_type": "code",
      "source": [
        "!pip install pylatex\n"
      ],
      "metadata": {
        "id": "rw94Gl4WA44M"
      },
      "execution_count": null,
      "outputs": []
    },
    {
      "cell_type": "code",
      "source": [
        "# Escolha de seis números aleatórios para jogos da sena\n",
        "import random \n",
        "import math\n",
        "Lista = []\n",
        "qtde = input (\"Digite a quantidade de jogos:\")\n",
        "for d in range(0,int(qtde)):\n",
        "  Lista = []\n",
        "  #for c in range(0,6):\n",
        "  while len(Lista)<6: \n",
        "    a = math.ceil(60*random.random())\n",
        "    if a not in Lista:\n",
        "      Lista.append(a)\n",
        "  Lista.sort()\n",
        "  print(Lista)"
      ],
      "metadata": {
        "id": "WUmURsoDEIKb"
      },
      "execution_count": null,
      "outputs": []
    },
    {
      "cell_type": "code",
      "source": [
        "# Escolha de quinze números aleatórios para jogos da LotoFácil\n",
        "import random \n",
        "import math\n",
        "Lista = []\n",
        "qtde = input (\"Digite a quantidade de jogos:\")\n",
        "for d in range(0,int(qtde)):\n",
        "  Lista = []\n",
        "  while len(Lista)<15:\n",
        "    a = math.ceil(25*random.random())\n",
        "    if a not in Lista:\n",
        "      Lista.append(a)\n",
        "  Lista.sort()\n",
        "  print(Lista)"
      ],
      "metadata": {
        "id": "CsNPi8tVEMfM"
      },
      "execution_count": null,
      "outputs": []
    },
    {
      "cell_type": "code",
      "source": [
        "import random\n",
        "import math\n",
        "Lista = []\n",
        "condicao = True\n",
        "condicao2 = False\n",
        "qtde = \"\"\n",
        "while(type(qtde)!= int):\n",
        "  print(\"Digite apenas numeros!\")\n",
        "  qtde = input (\"Digite a quantidade de jogos: \")\n",
        "  qtde = int(qtde)\n",
        "while(condicao):\n",
        "  tipo = input(\"Escolha 1 para Sena e 2 para LotoFácil: \")\n",
        "  tipo = int(tipo)\n",
        "  if(tipo==1 or tipo==2):\n",
        "    condicao = False\n",
        "    condicao2 = True    \n",
        "  else:\n",
        "    print(\"Opção indevida\\n\")\n",
        "    tipo = input(\"Escolha 1 para Sena e 2 para LotoFácil: \")\n",
        "    tipo = int(tipo)\n",
        "    #qtde = input (\"Digite a quantidade de jogos: \")\n",
        "if(condicao2): \n",
        "    if (tipo == 1):\n",
        "        print(\"\\n\")\n",
        "        for d in range(0,int(qtde)):\n",
        "            Lista = []\n",
        "            #for c in range(0,6):\n",
        "            while len(Lista)<6:\n",
        "                a = math.ceil(60*random.random())\n",
        "                if a not in Lista:\n",
        "                    Lista.append(a)\n",
        "            Lista.sort()                       \n",
        "            print(Lista)\n",
        "        condicao = False \n",
        "        print(\"\\nObrigado por usar o programa.\\nO programa será encerrado\")              \n",
        "    if (tipo == 2):\n",
        "        print(\"\\n\")\n",
        "        for d in range(0,int(qtde)):\n",
        "            Lista = []\n",
        "            while len(Lista)<15:\n",
        "                a = math.ceil(25*random.random())\n",
        "                if a not in Lista:\n",
        "                    Lista.append(a)\n",
        "            Lista.sort()        \n",
        "            print(Lista)\n",
        "        condicao = False\n",
        "        print(\"\\nObrigado por usar o programa.\\nO programa será encerrado\")\n"
      ],
      "metadata": {
        "id": "3X1g-3_Ak3iY",
        "colab": {
          "base_uri": "https://localhost:8080/"
        },
        "outputId": "60cf3004-1fa2-4feb-8f35-a00513edf209"
      },
      "execution_count": null,
      "outputs": [
        {
          "output_type": "stream",
          "name": "stdout",
          "text": [
            "Digite apenas numeros!\n",
            "Digite a quantidade de jogos: 12\n",
            "Escolha 1 para Sena e 2 para LotoFácil: 1\n",
            "\n",
            "\n",
            "[4, 5, 7, 23, 33, 54]\n",
            "[13, 15, 22, 35, 38, 50]\n",
            "[3, 7, 11, 35, 39, 45]\n",
            "[17, 18, 21, 24, 30, 33]\n",
            "[6, 9, 23, 26, 48, 54]\n",
            "[9, 22, 24, 29, 49, 59]\n",
            "[1, 3, 5, 17, 30, 36]\n",
            "[10, 17, 23, 31, 36, 45]\n",
            "[8, 29, 38, 50, 54, 57]\n",
            "[16, 31, 38, 40, 42, 47]\n",
            "[11, 16, 23, 31, 37, 41]\n",
            "[5, 19, 26, 27, 35, 43]\n",
            "\n",
            "Obrigado por usar o programa.\n",
            "O programa será encerrado\n"
          ]
        }
      ]
    },
    {
      "cell_type": "code",
      "source": [
        "!pip install qrcode"
      ],
      "metadata": {
        "id": "UrEL-neCEXzx"
      },
      "execution_count": null,
      "outputs": []
    },
    {
      "cell_type": "code",
      "source": [
        "import qrcode # Criar um qrcode para o site especificado.\n",
        "\n",
        "meu_qrcode = qrcode.make(\"https://fbac.org.br/\")\n",
        "meu_qrcode.save(\"/content/drive/MyDrive/PMMG/qrcode_fbac.png\") #nome da Imagem gerada"
      ],
      "metadata": {
        "id": "x1kz5S7pFZh7"
      },
      "execution_count": null,
      "outputs": []
    },
    {
      "cell_type": "code",
      "source": [
        "!pip install tabula-py"
      ],
      "metadata": {
        "id": "lW-hW1VtOqvm"
      },
      "execution_count": null,
      "outputs": []
    },
    {
      "cell_type": "code",
      "source": [
        "import tabula  #Ler tabelas em pdf para o python\n",
        "\n",
        "lista_tabelas = tabula.read_pdf(\"/content/drive/MyDrive/PMMG/anuario2019.pdf\", pages=\"14\")\n",
        "print(len(lista_tabelas))"
      ],
      "metadata": {
        "id": "gxLhg0I7KONG"
      },
      "execution_count": null,
      "outputs": []
    },
    {
      "cell_type": "code",
      "source": [
        "for tabela in lista_tabelas:\n",
        "  display(tabela)"
      ],
      "metadata": {
        "id": "UGpupI_eMsqO"
      },
      "execution_count": null,
      "outputs": []
    },
    {
      "cell_type": "code",
      "source": [
        "!pip uninstall SpeechRecognition"
      ],
      "metadata": {
        "colab": {
          "base_uri": "https://localhost:8080/"
        },
        "id": "dLB1enWBNmiL",
        "outputId": "eef413f3-091b-4571-f35a-51dc17a5b2c1"
      },
      "execution_count": null,
      "outputs": [
        {
          "output_type": "stream",
          "name": "stdout",
          "text": [
            "\u001b[33mWARNING: Skipping SpeechRecognition as it is not installed.\u001b[0m\n"
          ]
        }
      ]
    },
    {
      "cell_type": "code",
      "source": [
        "# Brincadeira do Pi no programa Silvio Santos\n",
        "def SilvioSantos(n: int):\n",
        "  for i in range (1, n, 1):\n",
        "    if (i % 3 == 0 or i % 10 ==3):\n",
        "      print('PI') \n",
        "    else:\n",
        "      print(i)\n",
        "\n",
        "SilvioSantos(10)"
      ],
      "metadata": {
        "id": "oCaK9l2al-QC"
      },
      "execution_count": null,
      "outputs": []
    },
    {
      "cell_type": "code",
      "source": [
        "# Funcao Lambda x Funcao normal\n",
        "def calcular(x):\n",
        "  return x * 3\n",
        "\n",
        "Lista = [1,2,3]\n",
        "\n",
        "resultado = list(map(lambda x: x*2, Lista))\n",
        "\n",
        "resultado2 = list(map(calcular,Lista))\n",
        "\n",
        "print(resultado)\n"
      ],
      "metadata": {
        "colab": {
          "base_uri": "https://localhost:8080/"
        },
        "id": "q48_uZn1pQKf",
        "outputId": "42d776e7-0213-4b94-98dc-2aeebc9a057d"
      },
      "execution_count": null,
      "outputs": [
        {
          "output_type": "stream",
          "name": "stdout",
          "text": [
            "[2, 4, 6]\n"
          ]
        }
      ]
    },
    {
      "cell_type": "code",
      "source": [],
      "metadata": {
        "id": "Qo-S8sLtp6Z0"
      },
      "execution_count": null,
      "outputs": []
    }
  ]
}