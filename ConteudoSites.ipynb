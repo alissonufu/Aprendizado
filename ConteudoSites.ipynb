{
  "nbformat": 4,
  "nbformat_minor": 0,
  "metadata": {
    "colab": {
      "provenance": [],
      "include_colab_link": true
    },
    "kernelspec": {
      "name": "python3",
      "display_name": "Python 3"
    },
    "language_info": {
      "name": "python"
    }
  },
  "cells": [
    {
      "cell_type": "markdown",
      "metadata": {
        "id": "view-in-github",
        "colab_type": "text"
      },
      "source": [
        "<a href=\"https://colab.research.google.com/github/alissonufu/Aprendizado/blob/main/ConteudoSites.ipynb\" target=\"_parent\"><img src=\"https://colab.research.google.com/assets/colab-badge.svg\" alt=\"Open In Colab\"/></a>"
      ]
    },
    {
      "cell_type": "markdown",
      "source": [
        "Compartilhe o link: https://colab.research.google.com/drive/1xCJwa8JPQpyzSCTnXScmpK7DhdCuFtFT?usp=sharing\n",
        "\n",
        "Endereço do caminho: /content/drive/MyDrive/Colab Notebooks/ConteudoSites.ipynb"
      ],
      "metadata": {
        "id": "Ug8POImnCPT5"
      }
    },
    {
      "cell_type": "markdown",
      "source": [
        "Montando o drive para manipulação de arquivos do GoogleDrive"
      ],
      "metadata": {
        "id": "PYC8ZsG2UPPT"
      }
    },
    {
      "cell_type": "code",
      "source": [
        "from google.colab import drive\n",
        "drive.mount('/content/drive')"
      ],
      "metadata": {
        "colab": {
          "base_uri": "https://localhost:8080/"
        },
        "id": "s2XZTf22TN9U",
        "outputId": "25b131f5-cc5f-4d95-ee22-ff2bc4ccfe89"
      },
      "execution_count": null,
      "outputs": [
        {
          "output_type": "stream",
          "name": "stdout",
          "text": [
            "Mounted at /content/drive\n"
          ]
        }
      ]
    },
    {
      "cell_type": "markdown",
      "source": [
        "Fazendo as instalações necessárias"
      ],
      "metadata": {
        "id": "O0ZUdtF4Veyc"
      }
    },
    {
      "cell_type": "code",
      "execution_count": null,
      "metadata": {
        "id": "zjitcuILS-n0"
      },
      "outputs": [],
      "source": [
        "!pip install bs4"
      ]
    },
    {
      "cell_type": "markdown",
      "source": [
        "Importando bibliotecas"
      ],
      "metadata": {
        "id": "aryWYSl7VisN"
      }
    },
    {
      "cell_type": "code",
      "source": [
        "from urllib.request import urlopen, urlretrieve, Request\n",
        "from urllib.error import URLError, HTTPError\n",
        "from bs4 import BeautifulSoup\n",
        "import pandas as pd\n",
        "from collections.abc import Mapping\n",
        "from IPython.utils.io import temp_pyfile\n",
        "import tempfile"
      ],
      "metadata": {
        "id": "KejqMHesVdw_"
      },
      "execution_count": null,
      "outputs": []
    },
    {
      "cell_type": "code",
      "source": [
        "url = input ('Digite a URL:')\n",
        "soup = BeautifulSoup(urlopen(url)) \n",
        "titulo = soup.title.get_text()\n",
        "# Copiando em um arquivo\n",
        "arquivosaida = open(\"/content/drive/MyDrive/OutrosArquivos/ResultadoUrl.txt\",\"w\")\n",
        "arquivosaida2 = open(\"/content/drive/MyDrive/OutrosArquivos/ResultadoAcumulado.doc\",\"a\")\n",
        "arquivosaida.write(f'Link: {url}\\n')\n",
        "arquivosaida.write(f'Título - {titulo}')\n",
        "arquivosaida2.write(f'Link: {url}\\n')\n",
        "arquivosaida2.write(f'Título - {titulo}\\n')\n",
        "print(f'\\nLink: {url}\\n')\n",
        "print('Título - ', titulo)\n",
        "arquivosaida.close()\n",
        "arquivosaida2.close()"
      ],
      "metadata": {
        "colab": {
          "base_uri": "https://localhost:8080/"
        },
        "id": "gJrsnlr5TRc5",
        "outputId": "1b4835ed-e75b-4dea-ba4d-31a90c3d2c31"
      },
      "execution_count": null,
      "outputs": [
        {
          "output_type": "stream",
          "name": "stdout",
          "text": [
            "Digite a URL:https://www.otempo.com.br/cidades/moradores-reclamam-de-barulho-em-bar-de-bh-preciso-de-remedio-para-dormir-1.2741529\n",
            "\n",
            "Link: https://www.otempo.com.br/cidades/moradores-reclamam-de-barulho-em-bar-de-bh-preciso-de-remedio-para-dormir-1.2741529\n",
            "\n",
            "Título -  Moradores reclamam de barulho em bar de BH: ‘Preciso de remédio para dormir’ | O TEMPO\n"
          ]
        }
      ]
    },
    {
      "cell_type": "code",
      "source": [],
      "metadata": {
        "id": "qdLuvUFoWmJf"
      },
      "execution_count": null,
      "outputs": []
    }
  ]
}